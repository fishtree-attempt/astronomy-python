{
 "cells": [
  {
   "cell_type": "raw",
   "metadata": {
    "tags": [
     "remove-cell"
    ]
   },
   "source": [
    "---\n",
    "title: \"Coordinate Transformations\"\n",
    "teaching: 3000\n",
    "exercises: 0\n",
    "questions:\n",
    "\n",
    "- \"How do we transform celestial coordinates from one frame to another and save results in files?\"\n",
    "\n",
    "objectives:\n",
    "\n",
    "- \"Use Python string formatting to compose more complex ADQL queries.\"\n",
    "\n",
    "- \"Work with coordinates and other quantities that have units.\"\n",
    "\n",
    "- \"Download the results of a query and store them in a file.\"\n",
    "\n",
    "keypoints:\n",
    "\n",
    "- \"For measurements with units, use `Quantity` objects that represent units explicitly and check for errors.\"\n",
    "\n",
    "- \"Use the `format` function to compose queries; it is often faster and less error-prone.\"\n",
    "\n",
    "- \"Develop queries incrementally: start with something simple, test it, and add a little bit at a time.\"\n",
    "\n",
    "- \"Once you have a query working, save the data in a local file.  If you shut down the notebook and come back to it later, you can reload the file; you don't have to run the query again.\"\n",
    "\n",
    "---\n",
    "\n",
    "{% include links.md %}\n"
   ]
  },
  {
   "cell_type": "markdown",
   "metadata": {},
   "source": [
    "# 2. Coordinates and Units\n",
    "\n",
    "In the previous lesson, we wrote ADQL queries and used them to select\n",
    "and download data from the Gaia server.\n",
    "\n",
    "In this lesson, we'll pick up where we left off and write a query to\n",
    "select stars from a particular region of the sky."
   ]
  },
  {
   "cell_type": "markdown",
   "metadata": {},
   "source": [
    "## Outline\n",
    "\n",
    "We'll start with an example that does a \"cone search\"; that is, it\n",
    "selects stars that appear in a circular region of the sky.\n",
    "\n",
    "Then, to select stars in the vicinity of GD-1, we'll:\n",
    "\n",
    "* Use `Quantity` objects to represent measurements with units.\n",
    "\n",
    "* Use Astropy to convert coordinates from one frame to another.\n",
    "\n",
    "* Use the ADQL keywords `POLYGON`, `CONTAINS`, and `POINT` to select\n",
    "stars that fall within a polygonal region.\n",
    "\n",
    "* Submit a query and download the results.\n",
    "\n",
    "* Store the results in a FITS file.\n",
    "\n",
    "After completing this lesson, you should be able to\n",
    "\n",
    "* Use Python string formatting to compose more complex ADQL queries.\n",
    "\n",
    "* Work with coordinates and other quantities that have units.\n",
    "\n",
    "* Download the results of a query and store them in a file."
   ]
  },
  {
   "cell_type": "raw",
   "metadata": {
    "tags": [
     "remove-cell"
    ]
   },
   "outputs": [],
   "source": []
  },
  {
   "cell_type": "raw",
   "execution_count": 1,
   "metadata": {
    "tags": [
     "remove-cell"
    ]
   },
   "outputs": [],
   "source": []
  },
  {
   "cell_type": "markdown",
   "metadata": {},
   "source": [
    "## Working with Units\n",
    "\n",
    "The measurements we will work with are physical quantities, which\n",
    "means that they have two parts, a value and a unit.\n",
    "\n",
    "For example, the coordinate $30^{\\circ}$ has value 30 and its units are degrees.\n",
    "\n",
    "Until recently, most scientific computation was done with values only;\n",
    "units were left out of the program altogether, [often with\n",
    "catastrophic\n",
    "results](https://en.wikipedia.org/wiki/Mars_Climate_Orbiter#Cause_of_failure).\n",
    "\n",
    "Astropy provides tools for including units explicitly in computations,\n",
    "which makes it possible to detect errors before they cause disasters.\n",
    "\n",
    "To use Astropy units, we import them like this:"
   ]
  },
  {
   "cell_type": "code",
   "execution_count": 2,
   "metadata": {},
   "outputs": [],
   "source": [
    "\n",
    "~~~\n",
    "\n",
    "~~~\n",
    "import astropy.units as u\n",
    "~~~\n",
    "{: .language-python}\n",
    "~~~\n",
    "{: .language-python}"
   ]
  },
  {
   "cell_type": "markdown",
   "metadata": {},
   "source": [
    "`u` is an object that contains most common units and all SI units.\n",
    "\n",
    "You can use `dir` to list them, but you should also [read the\n",
    "documentation](https://docs.astropy.org/en/stable/units/)."
   ]
  },
  {
   "cell_type": "code",
   "execution_count": 3,
   "metadata": {},
   "outputs": [
    {
     "data": {
      "text/plain": []
     },
     "execution_count": 3,
     "metadata": {},
     "output_type": "execute_result"
    }
   ],
   "source": [
    "\n",
    "~~~\n",
    "\n",
    "~~~\n",
    "dir(u)\n",
    "~~~\n",
    "{: .language-python}\n",
    "\n",
    "~~~\n",
    "['A',\n",
    " 'AA',\n",
    " 'AB',\n",
    " 'ABflux',\n",
    " 'ABmag',\n",
    " 'AU',\n",
    " 'Angstrom',\n",
    " 'B',\n",
    " 'Ba',\n",
    " 'Barye',\n",
    " 'Bi',\n",
    "[Output truncated]\n",
    "~~~\n",
    "{: .output}\n",
    "\n",
    "~~~\n",
    "{: .language-python}\n",
    "\n",
    "~~~\n",
    "\n",
    "~~~\n",
    "{: .output}\n"
   ]
  },
  {
   "cell_type": "markdown",
   "metadata": {},
   "source": [
    "To create a quantity, we multiply a value by a unit."
   ]
  },
  {
   "cell_type": "code",
   "execution_count": 4,
   "metadata": {},
   "outputs": [
    {
     "data": {
      "text/plain": []
     },
     "execution_count": 4,
     "metadata": {},
     "output_type": "execute_result"
    }
   ],
   "source": [
    "\n",
    "~~~\n",
    "\n",
    "~~~\n",
    "angle = 10 * u.degree\n",
    "type(angle)\n",
    "~~~\n",
    "{: .language-python}\n",
    "\n",
    "~~~\n",
    "astropy.units.quantity.Quantity\n",
    "~~~\n",
    "{: .output}\n",
    "\n",
    "~~~\n",
    "{: .language-python}\n",
    "\n",
    "~~~\n",
    "\n",
    "~~~\n",
    "{: .output}\n"
   ]
  },
  {
   "cell_type": "markdown",
   "metadata": {},
   "source": [
    "The result is a `Quantity` object.\n",
    "Jupyter knows how to display `Quantities` like this:"
   ]
  },
  {
   "cell_type": "code",
   "execution_count": 5,
   "metadata": {},
   "outputs": [
    {
     "data": {
      "text/latex": [
       "$10 \\; \\mathrm{{}^{\\circ}}$"
      ],
      "text/plain": []
     },
     "execution_count": 5,
     "metadata": {},
     "output_type": "execute_result"
    }
   ],
   "source": [
    "\n",
    "~~~\n",
    "\n",
    "~~~\n",
    "angle\n",
    "~~~\n",
    "{: .language-python}\n",
    "\n",
    "~~~\n",
    "<Quantity 10. deg>\n",
    "~~~\n",
    "{: .output}\n",
    "\n",
    "~~~\n",
    "{: .language-python}\n",
    "\n",
    "~~~\n",
    "\n",
    "~~~\n",
    "{: .output}\n"
   ]
  },
  {
   "cell_type": "markdown",
   "metadata": {},
   "source": [
    "Quantities provide a method called `to` that converts to other units.\n",
    "For example, we can compute the number of arcminutes in `angle`:"
   ]
  },
  {
   "cell_type": "code",
   "execution_count": 6,
   "metadata": {},
   "outputs": [
    {
     "data": {
      "text/latex": [
       "$600 \\; \\mathrm{{}^{\\prime}}$"
      ],
      "text/plain": []
     },
     "execution_count": 6,
     "metadata": {},
     "output_type": "execute_result"
    }
   ],
   "source": [
    "\n",
    "~~~\n",
    "\n",
    "~~~\n",
    "angle_arcmin = angle.to(u.arcmin)\n",
    "angle_arcmin\n",
    "~~~\n",
    "{: .language-python}\n",
    "\n",
    "~~~\n",
    "<Quantity 600. arcmin>\n",
    "~~~\n",
    "{: .output}\n",
    "\n",
    "~~~\n",
    "{: .language-python}\n",
    "\n",
    "~~~\n",
    "\n",
    "~~~\n",
    "{: .output}\n"
   ]
  },
  {
   "cell_type": "markdown",
   "metadata": {},
   "source": [
    "If you add quantities, Astropy converts them to compatible units, if possible:"
   ]
  },
  {
   "cell_type": "code",
   "execution_count": 7,
   "metadata": {},
   "outputs": [
    {
     "data": {
      "text/latex": [
       "$10.5 \\; \\mathrm{{}^{\\circ}}$"
      ],
      "text/plain": []
     },
     "execution_count": 7,
     "metadata": {},
     "output_type": "execute_result"
    }
   ],
   "source": [
    "\n",
    "~~~\n",
    "\n",
    "~~~\n",
    "angle + 30 * u.arcmin\n",
    "~~~\n",
    "{: .language-python}\n",
    "\n",
    "~~~\n",
    "<Quantity 10.5 deg>\n",
    "~~~\n",
    "{: .output}\n",
    "\n",
    "~~~\n",
    "{: .language-python}\n",
    "\n",
    "~~~\n",
    "\n",
    "~~~\n",
    "{: .output}\n"
   ]
  },
  {
   "cell_type": "markdown",
   "metadata": {},
   "source": [
    "If the units are not compatible, you get an error.\n",
    "For example:\n",
    "\n",
    "```\n",
    "angle + 5 * u.second\n",
    "```\n",
    "\n",
    "causes a `UnitConversionError`."
   ]
  },
  {
   "cell_type": "markdown",
   "metadata": {},
   "source": [
    "> ## Exercise\n",
    "> : \n",
    "> : Create a quantity that represents 5\n",
    "> : [arcminutes](https://en.wikipedia.org/wiki/Minute_and_second_of_arc)\n",
    "> : and assign it to a variable called `radius`.\n",
    "> : \n",
    "> : Then convert it to degrees."
   ]
  },
  {
   "cell_type": "code",
   "execution_count": 8,
   "metadata": {},
   "outputs": [
    {
     "name": "stdout",
     "output_type": "stream",
     "text": []
    },
    {
     "data": {
      "text/latex": [
       "$0.083333333 \\; \\mathrm{{}^{\\circ}}$"
      ],
      "text/plain": []
     },
     "execution_count": 8,
     "metadata": {},
     "output_type": "execute_result"
    }
   ],
   "source": [
    "\n",
    "~~~\n",
    "\n",
    "~~~\n",
    "## Solution\n",
    "\n",
    "radius = 5 * u.arcmin\n",
    "print(radius)\n",
    "\n",
    "radius.to(u.degree)\n",
    "~~~\n",
    "{: .language-python}\n",
    "\n",
    "~~~\n",
    "5.0 arcmin\n",
    "\n",
    "<Quantity 0.08333333 deg>\n",
    "~~~\n",
    "{: .output}\n",
    "\n",
    "~~~\n",
    "{: .language-python}\n",
    "\n",
    "~~~\n",
    "\n",
    "\n",
    "~~~\n",
    "{: .output}\n"
   ]
  },
  {
   "cell_type": "markdown",
   "metadata": {},
   "source": [
    "## Selecting a Region\n",
    "\n",
    "One of the most common ways to restrict a query is to select stars in\n",
    "a particular region of the sky.\n",
    "\n",
    "For example, here's a query from the [Gaia archive\n",
    "documentation](https://gea.esac.esa.int/archive-help/adql/examples/index.html)\n",
    "that selects objects in a circular region centered at (88.8, 7.4) with\n",
    "a search radius of 5 arcmin (0.08333 deg)."
   ]
  },
  {
   "cell_type": "code",
   "execution_count": 9,
   "metadata": {},
   "outputs": [],
   "source": [
    "\n",
    "~~~\n",
    "\n",
    "~~~\n",
    "query_cone = \"\"\"SELECT \n",
    "TOP 10 \n",
    "source_id\n",
    "FROM gaiadr2.gaia_source\n",
    "WHERE 1=CONTAINS(\n",
    "  POINT(ra, dec),\n",
    "  CIRCLE(88.8, 7.4, 0.08333333))\n",
    "\"\"\"\n",
    "~~~\n",
    "{: .language-python}\n",
    "~~~\n",
    "{: .language-python}"
   ]
  },
  {
   "cell_type": "markdown",
   "metadata": {},
   "source": [
    "This query uses three keywords that are specific to ADQL (not SQL):\n",
    "\n",
    "* `POINT`: a location in [ICRS\n",
    "coordinates](https://en.wikipedia.org/wiki/International_Celestial_Reference_System),\n",
    "specified in degrees of right ascension and declination.\n",
    "\n",
    "* `CIRCLE`: a circle where the first two values are the coordinates of\n",
    "the center and the third is the radius in degrees.\n",
    "\n",
    "* `CONTAINS`: a function that returns `1` if a `POINT` is contained in\n",
    "a shape and `0` otherwise.\n",
    "\n",
    "Here is the [documentation of\n",
    "`CONTAINS`](http://www.ivoa.net/documents/ADQL/20180112/PR-ADQL-2.1-20180112.html#tth_sEc4.2.12).\n",
    "\n",
    "A query like this is called a cone search because it selects stars in a cone.\n",
    "\n",
    "Here's how we run it."
   ]
  },
  {
   "cell_type": "code",
   "execution_count": 10,
   "metadata": {},
   "outputs": [
    {
     "name": "stdout",
     "output_type": "stream",
     "text": []
    },
    {
     "data": {
      "text/plain": []
     },
     "execution_count": 10,
     "metadata": {},
     "output_type": "execute_result"
    }
   ],
   "source": [
    "\n",
    "~~~\n",
    "\n",
    "~~~\n",
    "from astroquery.gaia import Gaia\n",
    "\n",
    "job = Gaia.launch_job(query_cone)\n",
    "job\n",
    "~~~\n",
    "{: .language-python}\n",
    "\n",
    "~~~\n",
    "Created TAP+ (v1.2.1) - Connection:\n",
    "\tHost: gea.esac.esa.int\n",
    "\tUse HTTPS: True\n",
    "\tPort: 443\n",
    "\tSSL Port: 443\n",
    "Created TAP+ (v1.2.1) - Connection:\n",
    "\tHost: geadata.esac.esa.int\n",
    "\tUse HTTPS: True\n",
    "\tPort: 443\n",
    "\tSSL Port: 443\n",
    "\n",
    "<astroquery.utils.tap.model.job.Job at 0x7ff00010b9a0>\n",
    "~~~\n",
    "{: .output}\n",
    "\n",
    "~~~\n",
    "{: .language-python}\n",
    "\n",
    "~~~\n",
    "\n",
    "\n",
    "~~~\n",
    "{: .output}\n"
   ]
  },
  {
   "cell_type": "code",
   "execution_count": 11,
   "metadata": {},
   "outputs": [
    {
     "data": {
      "text/html": [
       "<i>Table length=10</i>\n",
       "<table id=\"table140668769974208\" class=\"table-striped table-bordered table-condensed\">\n",
       "<thead><tr><th>source_id</th></tr></thead>\n",
       "<thead><tr><th>int64</th></tr></thead>\n",
       "<tr><td>3322773965056065536</td></tr>\n",
       "<tr><td>3322773758899157120</td></tr>\n",
       "<tr><td>3322774068134271104</td></tr>\n",
       "<tr><td>3322773930696320512</td></tr>\n",
       "<tr><td>3322774377374425728</td></tr>\n",
       "<tr><td>3322773724537891456</td></tr>\n",
       "<tr><td>3322773724537891328</td></tr>\n",
       "<tr><td>3322773930696321792</td></tr>\n",
       "<tr><td>3322773724537890944</td></tr>\n",
       "<tr><td>3322773930696322176</td></tr>\n",
       "</table>"
      ],
      "text/plain": []
     },
     "execution_count": 11,
     "metadata": {},
     "output_type": "execute_result"
    }
   ],
   "source": [
    "\n",
    "~~~\n",
    "\n",
    "~~~\n",
    "results = job.get_results()\n",
    "results\n",
    "~~~\n",
    "{: .language-python}\n",
    "\n",
    "~~~\n",
    "<Table length=10>\n",
    "     source_id     \n",
    "       int64       \n",
    "-------------------\n",
    "3322773965056065536\n",
    "3322773758899157120\n",
    "3322774068134271104\n",
    "3322773930696320512\n",
    "3322774377374425728\n",
    "3322773724537891456\n",
    "3322773724537891328\n",
    "[Output truncated]\n",
    "~~~\n",
    "{: .output}\n",
    "\n",
    "~~~\n",
    "{: .language-python}\n",
    "\n",
    "~~~\n",
    "\n",
    "~~~\n",
    "{: .output}\n"
   ]
  },
  {
   "cell_type": "markdown",
   "metadata": {},
   "source": [
    "> ## Exercise\n",
    "> : \n",
    "> : When you are debugging queries like this, you can use `TOP` to limit\n",
    "> : the size of the results, but then you still don't know how big the\n",
    "> : results will be.\n",
    "> : \n",
    "> : An alternative is to use `COUNT`, which asks for the number of rows\n",
    "> : that would be selected, but it does not return them.\n",
    "> : \n",
    "> : In the previous query, replace `TOP 10 source_id` with\n",
    "> : `COUNT(source_id)` and run the query again.  How many stars has Gaia\n",
    "> : identified in the cone we searched?"
   ]
  },
  {
   "cell_type": "code",
   "execution_count": 12,
   "metadata": {},
   "outputs": [
    {
     "data": {
      "text/html": [
       "<i>Table length=1</i>\n",
       "<table id=\"table140668536967072\" class=\"table-striped table-bordered table-condensed\">\n",
       "<thead><tr><th>count</th></tr></thead>\n",
       "<thead><tr><th>int64</th></tr></thead>\n",
       "<tr><td>594</td></tr>\n",
       "</table>"
      ],
      "text/plain": []
     },
     "execution_count": 12,
     "metadata": {},
     "output_type": "execute_result"
    }
   ],
   "source": [
    "\n",
    "~~~\n",
    ">\n",
    "> > ## Solution\n",
    "> > \n",
    "> > ~~~\n",
    "> > \n",
    "> > query = \"\"\"SELECT \n",
    "> > COUNT(source_id)\n",
    "> > FROM gaiadr2.gaia_source\n",
    "> > WHERE 1=CONTAINS(\n",
    "> >   POINT(ra, dec),\n",
    "> >   CIRCLE(88.8, 7.4, 0.08333333))\n",
    "> > \"\"\"\n",
    "> > \n",
    "> > job = Gaia.launch_job(query)\n",
    "> > results = job.get_results()\n",
    "> > results\n",
    "> > ~~~\n",
    "> > {: .language-python}\n",
    "> {: .solution}\n",
    "{: .challenge}\n",
    "\n",
    "\n",
    "~~~\n",
    "{: .language-python}\n",
    "\n",
    "~~~\n",
    "<Table length=1>\n",
    "count\n",
    "int64\n",
    "-----\n",
    "  594\n",
    "~~~\n",
    "{: .output}\n"
   ]
  },
  {
   "cell_type": "markdown",
   "metadata": {},
   "source": [
    "## Getting GD-1 Data\n",
    "\n",
    "From the Price-Whelan and Bonaca paper, we will try to reproduce\n",
    "Figure 1, which includes this representation of stars likely to belong\n",
    "to GD-1:\n",
    "\n",
    "<img\n",
    "src=\"https://github.com/datacarpentry/astronomy-python/raw/gh-pages/fig/gd1-4.png\">"
   ]
  },
  {
   "cell_type": "markdown",
   "metadata": {},
   "source": [
    "The axes of this figure are defined so the x-axis is aligned with the\n",
    "stars in GD-1, and the y-axis is perpendicular.\n",
    "\n",
    "* Along the x-axis ($\\phi_1$) the figure extends from -100 to 20 degrees.\n",
    "\n",
    "* Along the y-axis ($\\phi_2$) the figure extends from about -8 to 4 degrees.\n",
    "\n",
    "Ideally, we would select all stars from this rectangle, but there are\n",
    "more than 10 million of them, so\n",
    "\n",
    "* That would be difficult to work with,\n",
    "\n",
    "* As anonymous Gaia users, we are limited to 3 million rows in a\n",
    "single query, and\n",
    "\n",
    "* While we are developing and testing code, it will be faster to work\n",
    "with a smaller dataset.\n",
    "\n",
    "So we'll start by selecting stars in a smaller rectangle near the\n",
    "center of GD-1, from -55 to -45 degrees $\\phi_1$ and -8 to 4 degrees\n",
    "$\\phi_2$.\n",
    "\n",
    "But first we let's see how to represent these coordinates with Astropy."
   ]
  },
  {
   "cell_type": "markdown",
   "metadata": {},
   "source": [
    "## Transforming coordinates\n",
    "\n",
    "Astropy provides a `SkyCoord` object that represents sky coordinates\n",
    "relative to a specified frame.\n",
    "\n",
    "The following example creates a `SkyCoord` object that represents the\n",
    "approximate coordinates of\n",
    "[Betelgeuse](http://simbad.u-strasbg.fr/simbad/sim-basic?Ident=Betelgeuse)\n",
    "(alf Ori) in the ICRS frame.\n",
    "\n",
    "[ICRS](https://www.iers.org/IERS/EN/Science/ICRS/ICRS.html) is the\n",
    "\"International Celestial Reference System\", adopted in 1997 by the\n",
    "International Astronomical Union."
   ]
  },
  {
   "cell_type": "code",
   "execution_count": 13,
   "metadata": {},
   "outputs": [
    {
     "data": {
      "text/plain": []
     },
     "execution_count": 13,
     "metadata": {},
     "output_type": "execute_result"
    }
   ],
   "source": [
    "\n",
    "~~~\n",
    "\n",
    "~~~\n",
    "from astropy.coordinates import SkyCoord\n",
    "\n",
    "ra = 88.8 * u.degree\n",
    "dec = 7.4 * u.degree\n",
    "coord_icrs = SkyCoord(ra=ra, dec=dec, frame='icrs')\n",
    "\n",
    "coord_icrs\n",
    "~~~\n",
    "{: .language-python}\n",
    "\n",
    "~~~\n",
    "<SkyCoord (ICRS): (ra, dec) in deg\n",
    "    (88.8, 7.4)>\n",
    "~~~\n",
    "{: .output}\n",
    "\n",
    "~~~\n",
    "{: .language-python}\n",
    "\n",
    "~~~\n",
    "\n",
    "~~~\n",
    "{: .output}\n"
   ]
  },
  {
   "cell_type": "markdown",
   "metadata": {},
   "source": [
    "`SkyCoord` provides a function that transforms to other frames.\n",
    "For example, we can transform `coords_icrs` to Galactic coordinates like this:"
   ]
  },
  {
   "cell_type": "code",
   "execution_count": 14,
   "metadata": {},
   "outputs": [
    {
     "data": {
      "text/plain": []
     },
     "execution_count": 14,
     "metadata": {},
     "output_type": "execute_result"
    }
   ],
   "source": [
    "\n",
    "~~~\n",
    "\n",
    "~~~\n",
    "coord_galactic = coord_icrs.transform_to('galactic')\n",
    "coord_galactic\n",
    "~~~\n",
    "{: .language-python}\n",
    "\n",
    "~~~\n",
    "<SkyCoord (Galactic): (l, b) in deg\n",
    "    (199.79693102, -8.95591653)>\n",
    "~~~\n",
    "{: .output}\n",
    "\n",
    "~~~\n",
    "{: .language-python}\n",
    "\n",
    "~~~\n",
    "\n",
    "~~~\n",
    "{: .output}\n"
   ]
  },
  {
   "cell_type": "markdown",
   "metadata": {},
   "source": [
    "Notice that in Galactic frame, the coordinates are called `l` and `b`,\n",
    "not `ra` and `dec`.\n",
    "\n",
    "To transform to and from GD-1 coordinates, we'll use a frame defined\n",
    "by [Gala](https://gala-astro.readthedocs.io/en/latest/), which is an\n",
    "Astropy-affiliated library that provides tools for galactic dynamics.\n",
    "\n",
    "Gala provides\n",
    "[`GD1Koposov10`](https://gala-astro.readthedocs.io/en/latest/_modules/gala/coordinates/gd1.html),\n",
    "which is \"a Heliocentric spherical coordinate system defined by the\n",
    "orbit of the GD-1 stream\"."
   ]
  },
  {
   "cell_type": "code",
   "execution_count": 15,
   "metadata": {},
   "outputs": [
    {
     "data": {
      "text/plain": []
     },
     "execution_count": 15,
     "metadata": {},
     "output_type": "execute_result"
    }
   ],
   "source": [
    "\n",
    "~~~\n",
    "\n",
    "~~~\n",
    "from gala.coordinates import GD1Koposov10\n",
    "\n",
    "gd1_frame = GD1Koposov10()\n",
    "gd1_frame\n",
    "~~~\n",
    "{: .language-python}\n",
    "\n",
    "~~~\n",
    "<GD1Koposov10 Frame>\n",
    "~~~\n",
    "{: .output}\n",
    "\n",
    "~~~\n",
    "{: .language-python}\n",
    "\n",
    "~~~\n",
    "\n",
    "~~~\n",
    "{: .output}\n"
   ]
  },
  {
   "cell_type": "markdown",
   "metadata": {},
   "source": [
    "We can use it to find the coordinates of Betelgeuse in the GD-1 frame,\n",
    "like this:"
   ]
  },
  {
   "cell_type": "code",
   "execution_count": 16,
   "metadata": {},
   "outputs": [
    {
     "data": {
      "text/plain": []
     },
     "execution_count": 16,
     "metadata": {},
     "output_type": "execute_result"
    }
   ],
   "source": [
    "\n",
    "~~~\n",
    "\n",
    "~~~\n",
    "coord_gd1 = coord_icrs.transform_to(gd1_frame)\n",
    "coord_gd1\n",
    "~~~\n",
    "{: .language-python}\n",
    "\n",
    "~~~\n",
    "<SkyCoord (GD1Koposov10): (phi1, phi2) in deg\n",
    "    (-94.97222038, 34.5813813)>\n",
    "~~~\n",
    "{: .output}\n",
    "\n",
    "~~~\n",
    "{: .language-python}\n",
    "\n",
    "~~~\n",
    "\n",
    "~~~\n",
    "{: .output}\n"
   ]
  },
  {
   "cell_type": "markdown",
   "metadata": {},
   "source": [
    "Notice that the coordinates are called `phi1` and `phi2`.\n",
    "These are the coordinates shown in the figure from the paper, above."
   ]
  },
  {
   "cell_type": "markdown",
   "metadata": {},
   "source": [
    "> ## Exercise\n",
    "> : \n",
    "> : Let's find the location of GD-1 in ICRS coordinates.\n",
    "> : \n",
    "> : 1. Create a `SkyCoord` object at 0°, 0° in the GD-1 frame.\n",
    "> : \n",
    "> : 2. Transform it to the ICRS frame.\n",
    "> : \n",
    "> : Hint: Because ICRS is built into Astropy, you can specify it by name,\n",
    "> : `icrs` (as we did with `galactic`)."
   ]
  },
  {
   "cell_type": "code",
   "execution_count": 17,
   "metadata": {},
   "outputs": [
    {
     "data": {
      "text/plain": []
     },
     "execution_count": 17,
     "metadata": {},
     "output_type": "execute_result"
    }
   ],
   "source": [
    "\n",
    "~~~\n",
    ">\n",
    "> > ## Solution\n",
    "> > \n",
    "> > ~~~\n",
    "> > \n",
    "> > origin_gd1 = SkyCoord(0*u.degree, 0*u.degree, frame=gd1_frame)\n",
    "> > \n",
    "> > # OR\n",
    "> > \n",
    "> > origin_gd1 = SkyCoord(phi1=0*u.degree, \n",
    "> >                       phi2=0*u.degree, \n",
    "> >                       frame=gd1_frame)\n",
    "> > \n",
    "> > # Note: because ICRS is built into Astropy, \n",
    "> > # we can identify it by string name\n",
    "> > origin_gd1.transform_to('icrs')\n",
    "> > \n",
    "> > # More formally, we could instantiate it\n",
    "> > from astropy.coordinates import ICRS\n",
    "> > icrs_frame = ICRS()\n",
    "> > origin_gd1.transform_to(icrs_frame)\n",
    "> > ~~~\n",
    "> > {: .language-python}\n",
    "> {: .solution}\n",
    "{: .challenge}\n",
    "\n",
    "\n",
    "~~~\n",
    "{: .language-python}\n",
    "\n",
    "~~~\n",
    "<SkyCoord (ICRS): (ra, dec) in deg\n",
    "    (200., 59.4504341)>\n",
    "~~~\n",
    "{: .output}\n"
   ]
  },
  {
   "cell_type": "markdown",
   "metadata": {},
   "source": [
    "Notice that the origin of the GD-1 frame maps to `ra=200`, exactly, in\n",
    "ICRS.  That's by design."
   ]
  },
  {
   "cell_type": "markdown",
   "metadata": {},
   "source": [
    "## Selecting a rectangle\n",
    "\n",
    "Now we'll use these coordinate transformations to define a rectangle\n",
    "in the GD-1 frame and transform it to ICRS.\n",
    "\n",
    "The following variables define the boundaries of the rectangle in\n",
    "$\\phi_1$ and $\\phi_2$."
   ]
  },
  {
   "cell_type": "code",
   "execution_count": 18,
   "metadata": {},
   "outputs": [],
   "source": [
    "\n",
    "~~~\n",
    "\n",
    "~~~\n",
    "phi1_min = -55 * u.degree\n",
    "phi1_max = -45 * u.degree\n",
    "phi2_min = -8 * u.degree\n",
    "phi2_max = 4 * u.degree\n",
    "~~~\n",
    "{: .language-python}\n",
    "~~~\n",
    "{: .language-python}"
   ]
  },
  {
   "cell_type": "markdown",
   "metadata": {},
   "source": [
    "To create a rectangle, we'll use the following function, which takes\n",
    "the lower and upper bounds as parameters."
   ]
  },
  {
   "cell_type": "code",
   "execution_count": 19,
   "metadata": {},
   "outputs": [],
   "source": [
    "\n",
    "~~~\n",
    "\n",
    "~~~\n",
    "def make_rectangle(x1, x2, y1, y2):\n",
    "    \"\"\"Return the corners of a rectangle.\"\"\"\n",
    "    xs = [x1, x1, x2, x2, x1]\n",
    "    ys = [y1, y2, y2, y1, y1]\n",
    "    return xs, ys\n",
    "~~~\n",
    "{: .language-python}\n",
    "~~~\n",
    "{: .language-python}"
   ]
  },
  {
   "cell_type": "markdown",
   "metadata": {},
   "source": [
    "The return value is a tuple containing a list of coordinates in `phi1`\n",
    "followed by a list of coordinates in `phi2`."
   ]
  },
  {
   "cell_type": "code",
   "execution_count": 20,
   "metadata": {},
   "outputs": [],
   "source": [
    "\n",
    "~~~\n",
    "\n",
    "~~~\n",
    "phi1_rect, phi2_rect = make_rectangle(\n",
    "    phi1_min, phi1_max, phi2_min, phi2_max)\n",
    "~~~\n",
    "{: .language-python}\n",
    "~~~\n",
    "{: .language-python}"
   ]
  },
  {
   "cell_type": "markdown",
   "metadata": {},
   "source": [
    "`phi1_rect` and `phi2_rect` contains the coordinates of the corners of\n",
    "a rectangle in the GD-1 frame.\n",
    "\n",
    "In order to use them in a Gaia query, we have to convert them to ICRS.\n",
    "First we'll put them into a `SkyCoord` object."
   ]
  },
  {
   "cell_type": "code",
   "execution_count": 21,
   "metadata": {},
   "outputs": [
    {
     "data": {
      "text/plain": []
     },
     "execution_count": 21,
     "metadata": {},
     "output_type": "execute_result"
    }
   ],
   "source": [
    "\n",
    "~~~\n",
    "\n",
    "~~~\n",
    "corners = SkyCoord(phi1=phi1_rect, phi2=phi2_rect, frame=gd1_frame)\n",
    "corners\n",
    "~~~\n",
    "{: .language-python}\n",
    "\n",
    "~~~\n",
    "<SkyCoord (GD1Koposov10): (phi1, phi2) in deg\n",
    "    [(-55., -8.), (-55.,  4.), (-45.,  4.), (-45., -8.), (-55., -8.)]>\n",
    "~~~\n",
    "{: .output}\n",
    "\n",
    "~~~\n",
    "{: .language-python}\n",
    "\n",
    "~~~\n",
    "\n",
    "~~~\n",
    "{: .output}\n"
   ]
  },
  {
   "cell_type": "markdown",
   "metadata": {},
   "source": [
    "Now we can use `transform_to` to convert to ICRS coordinates."
   ]
  },
  {
   "cell_type": "code",
   "execution_count": 22,
   "metadata": {},
   "outputs": [
    {
     "data": {
      "text/plain": []
     },
     "execution_count": 22,
     "metadata": {},
     "output_type": "execute_result"
    }
   ],
   "source": [
    "\n",
    "~~~\n",
    "\n",
    "~~~\n",
    "corners_icrs = corners.transform_to('icrs')\n",
    "corners_icrs\n",
    "~~~\n",
    "{: .language-python}\n",
    "\n",
    "~~~\n",
    "<SkyCoord (ICRS): (ra, dec) in deg\n",
    "    [(146.27533314, 19.26190982), (135.42163944, 25.87738723),\n",
    "     (141.60264825, 34.3048303 ), (152.81671045, 27.13611254),\n",
    "     (146.27533314, 19.26190982)]>\n",
    "~~~\n",
    "{: .output}\n",
    "\n",
    "~~~\n",
    "{: .language-python}\n",
    "\n",
    "~~~\n",
    "\n",
    "~~~\n",
    "{: .output}\n"
   ]
  },
  {
   "cell_type": "markdown",
   "metadata": {},
   "source": [
    "Notice that a rectangle in one coordinate system is not necessarily a\n",
    "rectangle in another.  In this example, the result is a polygon."
   ]
  },
  {
   "cell_type": "markdown",
   "metadata": {},
   "source": [
    "## Defining a polygon\n",
    "\n",
    "In order to use this polygon as part of an ADQL query, we have to\n",
    "convert it to a string with a comma-separated list of coordinates, as\n",
    "in this example:\n",
    "\n",
    "```\n",
    "\"\"\"\n",
    "POLYGON(143.65, 20.98, \n",
    "        134.46, 26.39, \n",
    "        140.58, 34.85, \n",
    "        150.16, 29.01)\n",
    "\"\"\"\n",
    "```\n",
    "\n",
    "`SkyCoord` provides `to_string`, which produces a list of strings."
   ]
  },
  {
   "cell_type": "code",
   "execution_count": 23,
   "metadata": {},
   "outputs": [
    {
     "data": {
      "text/plain": []
     },
     "execution_count": 23,
     "metadata": {},
     "output_type": "execute_result"
    }
   ],
   "source": [
    "\n",
    "~~~\n",
    "\n",
    "~~~\n",
    "t = corners_icrs.to_string()\n",
    "t\n",
    "~~~\n",
    "{: .language-python}\n",
    "\n",
    "~~~\n",
    "['146.275 19.2619',\n",
    " '135.422 25.8774',\n",
    " '141.603 34.3048',\n",
    " '152.817 27.1361',\n",
    " '146.275 19.2619']\n",
    "~~~\n",
    "{: .output}\n",
    "\n",
    "~~~\n",
    "{: .language-python}\n",
    "\n",
    "~~~\n",
    "\n",
    "~~~\n",
    "{: .output}\n"
   ]
  },
  {
   "cell_type": "markdown",
   "metadata": {},
   "source": [
    "We can use the Python string function `join` to join `t` into a single\n",
    "string (with spaces between the pairs):"
   ]
  },
  {
   "cell_type": "code",
   "execution_count": 24,
   "metadata": {},
   "outputs": [
    {
     "data": {
      "text/plain": []
     },
     "execution_count": 24,
     "metadata": {},
     "output_type": "execute_result"
    }
   ],
   "source": [
    "\n",
    "~~~\n",
    "\n",
    "~~~\n",
    "s = ' '.join(t)\n",
    "s\n",
    "~~~\n",
    "{: .language-python}\n",
    "\n",
    "~~~\n",
    "'146.275 19.2619 135.422 25.8774 141.603 34.3048 152.817 27.1361 146.275 19.2619'\n",
    "~~~\n",
    "{: .output}\n",
    "\n",
    "~~~\n",
    "{: .language-python}\n",
    "\n",
    "~~~\n",
    "\n",
    "~~~\n",
    "{: .output}\n"
   ]
  },
  {
   "cell_type": "markdown",
   "metadata": {},
   "source": [
    "That's almost what we need, but we have to replace the spaces with commas."
   ]
  },
  {
   "cell_type": "code",
   "execution_count": 25,
   "metadata": {},
   "outputs": [
    {
     "data": {
      "text/plain": []
     },
     "execution_count": 25,
     "metadata": {},
     "output_type": "execute_result"
    }
   ],
   "source": [
    "\n",
    "~~~\n",
    "\n",
    "~~~\n",
    "s.replace(' ', ', ')\n",
    "~~~\n",
    "{: .language-python}\n",
    "\n",
    "~~~\n",
    "'146.275, 19.2619, 135.422, 25.8774, 141.603, 34.3048, 152.817, 27.1361, 146.275, 19.2619'\n",
    "~~~\n",
    "{: .output}\n",
    "\n",
    "~~~\n",
    "{: .language-python}\n",
    "\n",
    "~~~\n",
    "\n",
    "~~~\n",
    "{: .output}\n"
   ]
  },
  {
   "cell_type": "markdown",
   "metadata": {},
   "source": [
    "The following function combines these steps."
   ]
  },
  {
   "cell_type": "code",
   "execution_count": 26,
   "metadata": {},
   "outputs": [],
   "source": [
    "\n",
    "~~~\n",
    "\n",
    "~~~\n",
    "def skycoord_to_string(skycoord):\n",
    "    \"\"\"Convert SkyCoord to string.\"\"\"\n",
    "    t = skycoord.to_string()\n",
    "    s = ' '.join(t)\n",
    "    return s.replace(' ', ', ')\n",
    "~~~\n",
    "{: .language-python}\n",
    "~~~\n",
    "{: .language-python}"
   ]
  },
  {
   "cell_type": "markdown",
   "metadata": {},
   "source": [
    "Here's how we use it."
   ]
  },
  {
   "cell_type": "code",
   "execution_count": 27,
   "metadata": {},
   "outputs": [
    {
     "data": {
      "text/plain": []
     },
     "execution_count": 27,
     "metadata": {},
     "output_type": "execute_result"
    }
   ],
   "source": [
    "\n",
    "~~~\n",
    "\n",
    "~~~\n",
    "point_list = skycoord_to_string(corners_icrs)\n",
    "point_list\n",
    "~~~\n",
    "{: .language-python}\n",
    "\n",
    "~~~\n",
    "'146.275, 19.2619, 135.422, 25.8774, 141.603, 34.3048, 152.817, 27.1361, 146.275, 19.2619'\n",
    "~~~\n",
    "{: .output}\n",
    "\n",
    "~~~\n",
    "{: .language-python}\n",
    "\n",
    "~~~\n",
    "\n",
    "~~~\n",
    "{: .output}\n"
   ]
  },
  {
   "cell_type": "markdown",
   "metadata": {},
   "source": [
    "## Assembling the query\n",
    "\n",
    "Now we're ready to assemble the query. \n",
    "We need `columns` again (as we saw in the previous lesson)."
   ]
  },
  {
   "cell_type": "code",
   "execution_count": 28,
   "metadata": {},
   "outputs": [],
   "source": [
    "\n",
    "~~~\n",
    "\n",
    "~~~\n",
    "columns = 'source_id, ra, dec, pmra, pmdec, parallax'\n",
    "~~~\n",
    "{: .language-python}\n",
    "~~~\n",
    "{: .language-python}"
   ]
  },
  {
   "cell_type": "markdown",
   "metadata": {},
   "source": [
    "And here's the query base we used in the previous lesson:"
   ]
  },
  {
   "cell_type": "code",
   "execution_count": 29,
   "metadata": {},
   "outputs": [],
   "source": [
    "\n",
    "~~~\n",
    "\n",
    "~~~\n",
    "query3_base = \"\"\"SELECT \n",
    "TOP 10 \n",
    "{columns}\n",
    "FROM gaiadr2.gaia_source\n",
    "WHERE parallax < 1\n",
    "  AND bp_rp BETWEEN -0.75 AND 2\n",
    "\"\"\"\n",
    "~~~\n",
    "{: .language-python}\n",
    "~~~\n",
    "{: .language-python}"
   ]
  },
  {
   "cell_type": "markdown",
   "metadata": {},
   "source": [
    "Now we'll add a `WHERE` clause to select stars in the polygon we defined."
   ]
  },
  {
   "cell_type": "code",
   "execution_count": 30,
   "metadata": {},
   "outputs": [],
   "source": [
    "\n",
    "~~~\n",
    "\n",
    "~~~\n",
    "query4_base = \"\"\"SELECT\n",
    "TOP 10\n",
    "{columns}\n",
    "FROM gaiadr2.gaia_source\n",
    "WHERE parallax < 1\n",
    "  AND bp_rp BETWEEN -0.75 AND 2 \n",
    "  AND 1 = CONTAINS(POINT(ra, dec), \n",
    "                   POLYGON({point_list}))\n",
    "\"\"\"\n",
    "~~~\n",
    "{: .language-python}\n",
    "~~~\n",
    "{: .language-python}"
   ]
  },
  {
   "cell_type": "markdown",
   "metadata": {},
   "source": [
    "The query base contains format specifiers for `columns` and `point_list`.\n",
    "\n",
    "We'll use `format` to fill in these values."
   ]
  },
  {
   "cell_type": "code",
   "execution_count": 39,
   "metadata": {},
   "outputs": [
    {
     "name": "stdout",
     "output_type": "stream",
     "text": []
    }
   ],
   "source": [
    "\n",
    "~~~\n",
    "\n",
    "~~~\n",
    "query4 = query4_base.format(columns=columns, \n",
    "                          point_list=point_list)\n",
    "print(query4)\n",
    "~~~\n",
    "{: .language-python}\n",
    "\n",
    "~~~\n",
    "SELECT\n",
    "TOP 10\n",
    "source_id, ra, dec, pmra, pmdec, parallax\n",
    "FROM gaiadr2.gaia_source\n",
    "WHERE parallax < 1\n",
    "  AND bp_rp BETWEEN -0.75 AND 2 \n",
    "  AND 1 = CONTAINS(POINT(ra, dec), \n",
    "                   POLYGON(146.275, 19.2619, 135.422, 25.8774, 141.603, 34.3048, 152.817, 27.1361, 146.275, 19.2619))\n",
    "\n",
    "\n",
    "~~~\n",
    "{: .output}\n",
    "\n",
    "~~~\n",
    "{: .language-python}\n",
    "\n",
    "~~~\n",
    "\n",
    "~~~\n",
    "{: .output}\n"
   ]
  },
  {
   "cell_type": "markdown",
   "metadata": {},
   "source": [
    "As always, we should take a minute to proof-read the query before we launch it."
   ]
  },
  {
   "cell_type": "code",
   "execution_count": 40,
   "metadata": {
    "scrolled": true
   },
   "outputs": [
    {
     "name": "stdout",
     "output_type": "stream",
     "text": []
    }
   ],
   "source": [
    "\n",
    "~~~\n",
    "\n",
    "~~~\n",
    "job = Gaia.launch_job_async(query4)\n",
    "print(job)\n",
    "~~~\n",
    "{: .language-python}\n",
    "\n",
    "~~~\n",
    "INFO: Query finished. [astroquery.utils.tap.core]\n",
    "<Table length=10>\n",
    "   name    dtype    unit                              description                            \n",
    "--------- ------- -------- ------------------------------------------------------------------\n",
    "source_id   int64          Unique source identifier (unique within a particular Data Release)\n",
    "       ra float64      deg                                                    Right ascension\n",
    "      dec float64      deg                                                        Declination\n",
    "     pmra float64 mas / yr                         Proper motion in right ascension direction\n",
    "    pmdec float64 mas / yr                             Proper motion in declination direction\n",
    " parallax float64      mas                                                           Parallax\n",
    "Jobid: 1610552468498O\n",
    "[Output truncated]\n",
    "~~~\n",
    "{: .output}\n",
    "\n",
    "~~~\n",
    "{: .language-python}\n",
    "\n",
    "~~~\n",
    "\n",
    "~~~\n",
    "{: .output}\n"
   ]
  },
  {
   "cell_type": "markdown",
   "metadata": {},
   "source": [
    "Here are the results."
   ]
  },
  {
   "cell_type": "code",
   "execution_count": 41,
   "metadata": {},
   "outputs": [
    {
     "data": {
      "text/html": [
       "<i>Table length=10</i>\n",
       "<table id=\"table140668327439376\" class=\"table-striped table-bordered table-condensed\">\n",
       "<thead><tr><th>source_id</th><th>ra</th><th>dec</th><th>pmra</th><th>pmdec</th><th>parallax</th></tr></thead>\n",
       "<thead><tr><th></th><th>deg</th><th>deg</th><th>mas / yr</th><th>mas / yr</th><th>mas</th></tr></thead>\n",
       "<thead><tr><th>int64</th><th>float64</th><th>float64</th><th>float64</th><th>float64</th><th>float64</th></tr></thead>\n",
       "<tr><td>637987125186749568</td><td>142.48301935991023</td><td>21.75771616932985</td><td>-2.5168384683875766</td><td>2.941813096629439</td><td>-0.2573448962333354</td></tr>\n",
       "<tr><td>638285195917112960</td><td>142.25452941346344</td><td>22.476168171141378</td><td>2.6627020143457996</td><td>-12.165984395577347</td><td>0.4227283465319491</td></tr>\n",
       "<tr><td>638073505568978688</td><td>142.64528557468074</td><td>22.16693224953078</td><td>18.30674739454163</td><td>-7.950659620550862</td><td>0.10363972229362585</td></tr>\n",
       "<tr><td>638086386175786752</td><td>142.57739430926034</td><td>22.22791951401365</td><td>0.9877856720147953</td><td>-2.584105480335548</td><td>-0.8573270355079308</td></tr>\n",
       "<tr><td>638049655615392384</td><td>142.58913564478618</td><td>22.110783166677418</td><td>0.24443878227817095</td><td>-4.941079187010136</td><td>0.099624729200593</td></tr>\n",
       "<tr><td>638267565075964032</td><td>141.81762228999614</td><td>22.375696125322275</td><td>-3.413174589660796</td><td>1.8838892877285924</td><td>-0.07271215219283075</td></tr>\n",
       "<tr><td>638028902333511168</td><td>143.18339801317677</td><td>22.2512465812369</td><td>7.848511762712128</td><td>-21.391145547787154</td><td>0.28736226011479443</td></tr>\n",
       "<tr><td>638085767700610432</td><td>142.9347319464589</td><td>22.46244080823965</td><td>-3.6585960944321476</td><td>-12.486419770278376</td><td>-0.9896728393047383</td></tr>\n",
       "<tr><td>638299863230178304</td><td>142.26769745823267</td><td>22.640183776884836</td><td>-1.8168370892218297</td><td>1.0537342990941316</td><td>0.16396383783029062</td></tr>\n",
       "<tr><td>637973067758974208</td><td>142.89551292869012</td><td>21.612824100339875</td><td>-8.645166256559063</td><td>-44.41164172204947</td><td>0.7647361167279948</td></tr>\n",
       "</table>"
      ],
      "text/plain": []
     },
     "execution_count": 41,
     "metadata": {},
     "output_type": "execute_result"
    }
   ],
   "source": [
    "\n",
    "~~~\n",
    "\n",
    "~~~\n",
    "results = job.get_results()\n",
    "results\n",
    "~~~\n",
    "{: .language-python}\n",
    "\n",
    "~~~\n",
    "<Table length=10>\n",
    "    source_id              ra         ...       parallax      \n",
    "                          deg         ...         mas         \n",
    "      int64             float64       ...       float64       \n",
    "------------------ ------------------ ... --------------------\n",
    "637987125186749568 142.48301935991023 ...  -0.2573448962333354\n",
    "638285195917112960 142.25452941346344 ...   0.4227283465319491\n",
    "638073505568978688 142.64528557468074 ...  0.10363972229362585\n",
    "638086386175786752 142.57739430926034 ...  -0.8573270355079308\n",
    "638049655615392384 142.58913564478618 ...    0.099624729200593\n",
    "638267565075964032 141.81762228999614 ... -0.07271215219283075\n",
    "[Output truncated]\n",
    "~~~\n",
    "{: .output}\n",
    "\n",
    "~~~\n",
    "{: .language-python}\n",
    "\n",
    "~~~\n",
    "\n",
    "~~~\n",
    "{: .output}\n"
   ]
  },
  {
   "cell_type": "markdown",
   "metadata": {},
   "source": [
    "Finally, we can remove `TOP 10` run the query again.\n",
    "\n",
    "The result is bigger than our previous queries, so it will take a little longer."
   ]
  },
  {
   "cell_type": "code",
   "execution_count": 42,
   "metadata": {},
   "outputs": [],
   "source": [
    "\n",
    "~~~\n",
    "\n",
    "~~~\n",
    "query5_base = \"\"\"SELECT\n",
    "{columns}\n",
    "FROM gaiadr2.gaia_source\n",
    "WHERE parallax < 1\n",
    "  AND bp_rp BETWEEN -0.75 AND 2 \n",
    "  AND 1 = CONTAINS(POINT(ra, dec), \n",
    "                   POLYGON({point_list}))\n",
    "\"\"\"\n",
    "~~~\n",
    "{: .language-python}\n",
    "~~~\n",
    "{: .language-python}"
   ]
  },
  {
   "cell_type": "code",
   "execution_count": 43,
   "metadata": {},
   "outputs": [
    {
     "name": "stdout",
     "output_type": "stream",
     "text": []
    }
   ],
   "source": [
    "\n",
    "~~~\n",
    "\n",
    "~~~\n",
    "query5 = query5_base.format(columns=columns, \n",
    "                          point_list=point_list)\n",
    "print(query5)\n",
    "~~~\n",
    "{: .language-python}\n",
    "\n",
    "~~~\n",
    "SELECT\n",
    "source_id, ra, dec, pmra, pmdec, parallax\n",
    "FROM gaiadr2.gaia_source\n",
    "WHERE parallax < 1\n",
    "  AND bp_rp BETWEEN -0.75 AND 2 \n",
    "  AND 1 = CONTAINS(POINT(ra, dec), \n",
    "                   POLYGON(146.275, 19.2619, 135.422, 25.8774, 141.603, 34.3048, 152.817, 27.1361, 146.275, 19.2619))\n",
    "\n",
    "\n",
    "~~~\n",
    "{: .output}\n",
    "\n",
    "~~~\n",
    "{: .language-python}\n",
    "\n",
    "~~~\n",
    "\n",
    "~~~\n",
    "{: .output}\n"
   ]
  },
  {
   "cell_type": "code",
   "execution_count": 44,
   "metadata": {
    "scrolled": true
   },
   "outputs": [
    {
     "name": "stdout",
     "output_type": "stream",
     "text": []
    }
   ],
   "source": [
    "\n",
    "~~~\n",
    "\n",
    "~~~\n",
    "job = Gaia.launch_job_async(query5)\n",
    "print(job)\n",
    "~~~\n",
    "{: .language-python}\n",
    "\n",
    "~~~\n",
    "INFO: Query finished. [astroquery.utils.tap.core]\n",
    "<Table length=140339>\n",
    "   name    dtype    unit                              description                            \n",
    "--------- ------- -------- ------------------------------------------------------------------\n",
    "source_id   int64          Unique source identifier (unique within a particular Data Release)\n",
    "       ra float64      deg                                                    Right ascension\n",
    "      dec float64      deg                                                        Declination\n",
    "     pmra float64 mas / yr                         Proper motion in right ascension direction\n",
    "    pmdec float64 mas / yr                             Proper motion in declination direction\n",
    " parallax float64      mas                                                           Parallax\n",
    "Jobid: 1610552483857O\n",
    "[Output truncated]\n",
    "~~~\n",
    "{: .output}\n",
    "\n",
    "~~~\n",
    "{: .language-python}\n",
    "\n",
    "~~~\n",
    "\n",
    "~~~\n",
    "{: .output}\n"
   ]
  },
  {
   "cell_type": "code",
   "execution_count": 45,
   "metadata": {},
   "outputs": [
    {
     "data": {
      "text/plain": []
     },
     "execution_count": 45,
     "metadata": {},
     "output_type": "execute_result"
    }
   ],
   "source": [
    "\n",
    "~~~\n",
    "\n",
    "~~~\n",
    "results = job.get_results()\n",
    "len(results)\n",
    "~~~\n",
    "{: .language-python}\n",
    "\n",
    "~~~\n",
    "140339\n",
    "~~~\n",
    "{: .output}\n",
    "\n",
    "~~~\n",
    "{: .language-python}\n",
    "\n",
    "~~~\n",
    "\n",
    "~~~\n",
    "{: .output}\n"
   ]
  },
  {
   "cell_type": "markdown",
   "metadata": {},
   "source": [
    "There are more than 100,000 stars in this polygon, but that's a\n",
    "manageable size to work with."
   ]
  },
  {
   "cell_type": "markdown",
   "metadata": {},
   "source": [
    "## Saving results\n",
    "\n",
    "This is the set of stars we'll work with in the next step.  But since\n",
    "we have a substantial dataset now, this is a good time to save it.\n",
    "\n",
    "Storing the data in a file means we can shut down this notebook and\n",
    "pick up where we left off without running the previous query again.\n",
    "\n",
    "Astropy `Table` objects provide `write`, which writes the table to disk."
   ]
  },
  {
   "cell_type": "code",
   "execution_count": 46,
   "metadata": {},
   "outputs": [],
   "source": [
    "\n",
    "~~~\n",
    "\n",
    "~~~\n",
    "filename = 'gd1_results.fits'\n",
    "results.write(filename, overwrite=True)\n",
    "~~~\n",
    "{: .language-python}\n",
    "~~~\n",
    "{: .language-python}"
   ]
  },
  {
   "cell_type": "markdown",
   "metadata": {},
   "source": [
    "Because the filename ends with `fits`, the table is written in the\n",
    "[FITS format](https://en.wikipedia.org/wiki/FITS), which preserves the\n",
    "metadata associated with the table.\n",
    "\n",
    "If the file already exists, the `overwrite` argument causes it to be\n",
    "overwritten.\n",
    "\n",
    "To see how big the file is, we can use `ls` with the `-lh` option,\n",
    "which prints information about the file including its size in\n",
    "human-readable form."
   ]
  },
  {
   "cell_type": "code",
   "execution_count": 48,
   "metadata": {},
   "outputs": [
    {
     "name": "stdout",
     "output_type": "stream",
     "text": []
    }
   ],
   "source": [
    "\n",
    "~~~\n",
    "\n",
    "~~~\n",
    "!ls -lh gd1_results.fits\n",
    "~~~\n",
    "{: .language-python}\n",
    "\n",
    "~~~\n",
    "-rw-rw-r-- 1 downey downey 6.5M Jan 13 11:00 gd1_results.fits\r\n",
    "\n",
    "~~~\n",
    "{: .output}\n",
    "\n",
    "~~~\n",
    "{: .language-python}\n",
    "\n",
    "~~~\n",
    "\n",
    "~~~\n",
    "{: .output}\n"
   ]
  },
  {
   "cell_type": "markdown",
   "metadata": {},
   "source": [
    "If you are using Windows, `ls` might not work; in that case, try:\n",
    "\n",
    "```\n",
    "!dir gd1_results.fits\n",
    "```"
   ]
  },
  {
   "cell_type": "markdown",
   "metadata": {},
   "source": [
    "## Summary\n",
    "\n",
    "In this notebook, we composed more complex queries to select stars\n",
    "within a polygonal region of the sky.  Then we downloaded the results\n",
    "and saved them in a FITS file.\n",
    "\n",
    "In the next notebook, we'll reload the data from this file and\n",
    "replicate the next step in the analysis, using proper motion to\n",
    "identify stars likely to be in GD-1."
   ]
  },
  {
   "cell_type": "markdown",
   "metadata": {},
   "source": [
    "## Best practices\n",
    "\n",
    "* For measurements with units, use `Quantity` objects that represent\n",
    "units explicitly and check for errors.\n",
    "\n",
    "* Use the `format` function to compose queries; code written this way\n",
    "is easier to read and less error-prone.\n",
    "\n",
    "* Develop queries incrementally: start with something simple, test it,\n",
    "and add a little bit at a time.\n",
    "\n",
    "* Once you have a query working, save the data in a local file.  If\n",
    "you shut down the notebook and come back to it later, you can reload\n",
    "the file; you don't have to run the query again."
   ]
  },
  {
   "cell_type": "raw",
   "metadata": {},
   "source": []
  }
 ],
 "metadata": {
  "celltoolbar": "Tags",
  "kernelspec": {
   "display_name": "Python 3",
   "language": "python",
   "name": "python3"
  },
  "language_info": {
   "codemirror_mode": {
    "name": "ipython",
    "version": 3
   },
   "file_extension": ".py",
   "mimetype": "text/x-python",
   "name": "python",
   "nbconvert_exporter": "python",
   "pygments_lexer": "ipython3",
   "version": "3.8.5"
  }
 },
 "nbformat": 4,
 "nbformat_minor": 2
}
