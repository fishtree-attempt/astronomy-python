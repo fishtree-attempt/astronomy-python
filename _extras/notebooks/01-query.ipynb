{
 "cells": [
  {
   "cell_type": "raw",
   "metadata": {
    "tags": [
     "remove-cell"
    ]
   },
   "source": [
    "---\n",
    "title: \"Basic queries\"\n",
    "teaching: 3000\n",
    "exercises: 0\n",
    "questions:\n",
    "- \"How can we select and download the data we want from the Gaia server?\"\n",
    "\n",
    "objectives:\n",
    "- \"Compose a basic query in ADQL/SQL.\"\n",
    "- \"Use queries to explore a database and its tables.\"\n",
    "- \"Use queries to download data.\"\n",
    "- \"Develop, test, and debug a query incrementally.\"\n",
    "keypoints:\n",
    "- \"If you can't download an entire dataset (or it's not practical) use queries to select the data you need.\"\n",
    "\n",
    "- \"Read the metadata and the documentation to make sure you understand the tables, their columns, and what they mean.\"\n",
    "\n",
    "- \"Develop queries incrementally: start with something simple, test it, and add a little bit at a time.\"\n",
    "\n",
    "- \"Use ADQL features like `TOP` and `COUNT` to test before you run a query that might return a lot of data.\"\n",
    "\n",
    "- \"If you know your query will return fewer than 3000 rows, you can \n",
    "run it synchronously, which might complete faster (but it doesn't seem to make much difference).  If it might return more than 3000 rows, you should run it asynchronously.\"\n",
    "\n",
    "- \"ADQL and SQL are not case-sensitive, so you don't have to \n",
    "capitalize the keywords, but you should.\"\n",
    "\n",
    "- \"ADQL and SQL don't require you to break a query into multiple \n",
    "lines, but you should.\"\n",
    "\n",
    "---\n",
    "\n",
    "{% include links.md %}\n"
   ]
  },
  {
   "cell_type": "markdown",
   "metadata": {},
   "source": [
    "# 1. Queries\n",
    "\n",
    "This is the first in a series of lessons about working with astronomical data.\n",
    "\n",
    "As a running example, we will replicate parts of the analysis in a\n",
    "recent paper, \"[Off the beaten path: Gaia reveals GD-1 stars outside\n",
    "of the main stream](https://arxiv.org/abs/1805.00425)\" by Adrian\n",
    "Price-Whelan and Ana Bonaca."
   ]
  },
  {
   "cell_type": "markdown",
   "metadata": {},
   "source": [
    "## Outline\n",
    "\n",
    "This lesson demonstrates the steps for selecting and downloading data\n",
    "from the Gaia Database:\n",
    "\n",
    "1. First we'll make a connection to the Gaia server,\n",
    "\n",
    "2. We will explore information about the database and the tables it contains,\n",
    "\n",
    "3. We will write a query and send it to the server, and finally\n",
    "\n",
    "4. We will download the response from the server.\n"
   ]
  },
  {
   "cell_type": "markdown",
   "metadata": {},
   "source": [
    "## Query Language\n",
    "\n",
    "In order to select data from a database, you have to compose a query,\n",
    "which is a program written in a \"query language\".\n",
    "The query language we'll use is ADQL, which stands for \"Astronomical\n",
    "Data Query Language\".\n",
    "\n",
    "ADQL is a dialect of [SQL](https://en.wikipedia.org/wiki/SQL)\n",
    "(Structured Query Language), which is by far the most commonly used\n",
    "query language.  Almost everything you will learn about ADQL also\n",
    "works in SQL.\n",
    "\n",
    "[The reference manual for ADQL is\n",
    "here](http://www.ivoa.net/documents/ADQL/20180112/PR-ADQL-2.1-20180112.html).\n",
    "But you might find it easier to learn from [this ADQL\n",
    "Cookbook](https://www.gaia.ac.uk/data/gaia-data-release-1/adql-cookbook)."
   ]
  },
  {
   "cell_type": "markdown",
   "metadata": {},
   "source": [
    "## Using Jupyter\n",
    "\n",
    "If you have not worked with Jupyter notebooks before, you might start\n",
    "with [the tutorial on from Jupyter.org called \"Try Classic\n",
    "Notebook\"](https://jupyter.org/try), or [this tutorial from\n",
    "DataQuest](https://www.dataquest.io/blog/jupyter-notebook-tutorial/).\n",
    "\n",
    "There are two environments you can use to write and run notebooks: \n",
    "\n",
    "* \"Jupyter Notebook\" is the original, and\n",
    "\n",
    "* \"Jupyter Lab\" is a newer environment with more features.\n",
    "\n",
    "For these lessons, you can use either one."
   ]
  },
  {
   "cell_type": "markdown",
   "metadata": {},
   "source": [
    "If you are too impatient for the tutorials, here are the most\n",
    "important things to know:\n",
    "\n",
    "1. Notebooks are made up of code cells and text cells (and a few other\n",
    "less common kinds).  Code cells contain code; text cells, like this\n",
    "one, contain explanatory text written in\n",
    "[Markdown](https://www.markdownguide.org/).\n",
    "\n",
    "2. To run a code cell, click the cell to select it and press\n",
    "Shift-Enter.  The output of the code should appear below the cell.\n",
    "\n",
    "3. In general, notebooks only run correctly if you run every code cell\n",
    "in order from top to bottom.  If you run cells out of order, you are\n",
    "likely to get errors.\n",
    "\n",
    "4. You can modify existing cells, but then you have to run them again\n",
    "to see the effect.\n",
    "\n",
    "5. You can add new cells, but again, you might have to be careful\n",
    "about the order you run them in.\n",
    "\n",
    "6. If you have added or modified cells and the behavior of the\n",
    "notebook seems strange, you can restart the \"kernel\", which clears all\n",
    "of the variables and functions you have defined, and run the cells\n",
    "again from the beginning.\n",
    "\n",
    "* If you are using Jupyter notebook, open the `Kernel` menu and select\n",
    "\"Restart and Run All\".\n",
    "\n",
    "* In Jupyter Lab, open the `Kernel` menu and select \"Restart Kernel\n",
    "and Run All Cells\"\n",
    "\n",
    "* In Colab, open the `Runtime` menu and select \"Restart and run all\"\n",
    "\n",
    "Before you go on, you might want to explore the other menus and the\n",
    "toolbar to see what else you can do."
   ]
  },
  {
   "cell_type": "raw",
   "metadata": {
    "tags": [
     "remove-cell"
    ]
   },
   "outputs": [],
   "source": []
  },
  {
   "cell_type": "raw",
   "execution_count": 1,
   "metadata": {
    "tags": [
     "remove-cell"
    ]
   },
   "outputs": [],
   "source": []
  },
  {
   "cell_type": "markdown",
   "metadata": {},
   "source": [
    "## Connecting to Gaia\n",
    "\n",
    "The library we'll use to get Gaia data is\n",
    "[Astroquery](https://astroquery.readthedocs.io/en/latest/).\n",
    "Astroquery provides `Gaia`, which is an [object that represents a\n",
    "connection to the Gaia\n",
    "database](https://astroquery.readthedocs.io/en/latest/gaia/gaia.html).\n",
    "\n",
    "We can connect to the Gaia database like this:"
   ]
  },
  {
   "cell_type": "code",
   "execution_count": 2,
   "metadata": {},
   "outputs": [
    {
     "name": "stdout",
     "output_type": "stream",
     "text": []
    }
   ],
   "source": [
    "\n",
    "~~~\n",
    "\n",
    "~~~\n",
    "from astroquery.gaia import Gaia\n",
    "~~~\n",
    "{: .language-python}\n",
    "\n",
    "~~~\n",
    "Created TAP+ (v1.2.1) - Connection:\n",
    "\tHost: gea.esac.esa.int\n",
    "\tUse HTTPS: True\n",
    "\tPort: 443\n",
    "\tSSL Port: 443\n",
    "Created TAP+ (v1.2.1) - Connection:\n",
    "\tHost: geadata.esac.esa.int\n",
    "\tUse HTTPS: True\n",
    "\tPort: 443\n",
    "\tSSL Port: 443\n",
    "\n",
    "~~~\n",
    "{: .output}\n",
    "\n",
    "~~~\n",
    "{: .language-python}\n",
    "\n",
    "~~~\n",
    "\n",
    "~~~\n",
    "{: .output}\n"
   ]
  },
  {
   "cell_type": "markdown",
   "metadata": {},
   "source": [
    "Running this import statement has the effect of creating a\n",
    "[TAP+](http://www.ivoa.net/documents/TAP/) connection; TAP stands for\n",
    "\"Table Access Protocol\", which is a network protocol for sending\n",
    "queries to the database and getting back the results."
   ]
  },
  {
   "cell_type": "markdown",
   "metadata": {},
   "source": [
    "## Databases and Tables\n",
    "\n",
    "What is a database, anyway?  Most generally, it can be any collection\n",
    "of data, but when we are talking about ADQL or SQL:\n",
    "\n",
    "* A database is a collection of one or more named tables.\n",
    "\n",
    "* Each table is a 2-D array with one or more named columns of data.\n",
    "\n",
    "We can use `Gaia.load_tables` to get the names of the tables in the\n",
    "Gaia database.  With the option `only_names=True`, it loads\n",
    "information about the tables, called \"metadata\", not the data itself."
   ]
  },
  {
   "cell_type": "code",
   "execution_count": 3,
   "metadata": {},
   "outputs": [
    {
     "name": "stdout",
     "output_type": "stream",
     "text": []
    }
   ],
   "source": [
    "\n",
    "~~~\n",
    "\n",
    "~~~\n",
    "tables = Gaia.load_tables(only_names=True)\n",
    "~~~\n",
    "{: .language-python}\n",
    "\n",
    "~~~\n",
    "INFO: Retrieving tables... [astroquery.utils.tap.core]\n",
    "INFO: Parsing tables... [astroquery.utils.tap.core]\n",
    "INFO: Done. [astroquery.utils.tap.core]\n",
    "\n",
    "~~~\n",
    "{: .output}\n",
    "\n",
    "~~~\n",
    "{: .language-python}\n",
    "\n",
    "~~~\n",
    "\n",
    "~~~\n",
    "{: .output}\n"
   ]
  },
  {
   "cell_type": "code",
   "execution_count": 4,
   "metadata": {
    "tags": [
     "hide-output",
     "truncate-output"
    ]
   },
   "outputs": [
    {
     "name": "stdout",
     "output_type": "stream",
     "text": []
    }
   ],
   "source": [
    "\n",
    "~~~\n",
    "\n",
    "~~~\n",
    "for table in tables:\n",
    "    print(table.name)\n",
    "~~~\n",
    "{: .language-python}\n",
    "\n",
    "~~~\n",
    "external.apassdr9\n",
    "external.gaiadr2_geometric_distance\n",
    "external.galex_ais\n",
    "external.ravedr5_com\n",
    "external.ravedr5_dr5\n",
    "external.ravedr5_gra\n",
    "external.ravedr5_on\n",
    "external.sdssdr13_photoprimary\n",
    "external.skymapperdr1_master\n",
    "external.skymapperdr2_master\n",
    "external.tmass_xsc\n",
    "[Output truncated]\n",
    "~~~\n",
    "{: .output}\n",
    "\n",
    "~~~\n",
    "{: .language-python}\n",
    "\n",
    "~~~\n",
    "\n",
    "~~~\n",
    "{: .output}\n"
   ]
  },
  {
   "cell_type": "markdown",
   "metadata": {},
   "source": [
    "So that's a lot of tables.  The ones we'll use are:\n",
    "\n",
    "* `gaiadr2.gaia_source`, which contains Gaia data from [data release\n",
    "2](https://www.cosmos.esa.int/web/gaia/data-release-2),\n",
    "\n",
    "* `gaiadr2.panstarrs1_original_valid`, which contains the photometry\n",
    "data we'll use from PanSTARRS, and\n",
    "\n",
    "* `gaiadr2.panstarrs1_best_neighbour`, which we'll use to cross-match\n",
    "each star observed by Gaia with the same star observed by PanSTARRS.\n",
    "\n",
    "We can use `load_table` (not `load_tables`) to get the metadata for a\n",
    "single table.  The name of this function is misleading, because it\n",
    "only downloads metadata, not the contents of the table."
   ]
  },
  {
   "cell_type": "code",
   "execution_count": 5,
   "metadata": {},
   "outputs": [
    {
     "name": "stdout",
     "output_type": "stream",
     "text": []
    },
    {
     "data": {
      "text/plain": []
     },
     "execution_count": 5,
     "metadata": {},
     "output_type": "execute_result"
    }
   ],
   "source": [
    "\n",
    "~~~\n",
    "\n",
    "~~~\n",
    "meta = Gaia.load_table('gaiadr2.gaia_source')\n",
    "meta\n",
    "~~~\n",
    "{: .language-python}\n",
    "\n",
    "~~~\n",
    "Retrieving table 'gaiadr2.gaia_source'\n",
    "Parsing table 'gaiadr2.gaia_source'...\n",
    "Done.\n",
    "\n",
    "<astroquery.utils.tap.model.taptable.TapTableMeta at 0x7f208b57a880>\n",
    "~~~\n",
    "{: .output}\n",
    "\n",
    "~~~\n",
    "{: .language-python}\n",
    "\n",
    "~~~\n",
    "\n",
    "\n",
    "~~~\n",
    "{: .output}\n"
   ]
  },
  {
   "cell_type": "markdown",
   "metadata": {},
   "source": [
    "Jupyter shows that the result is an object of type `TapTableMeta`, but\n",
    "it does not display the contents.\n",
    "\n",
    "To see the metadata, we have to print the object."
   ]
  },
  {
   "cell_type": "code",
   "execution_count": 6,
   "metadata": {},
   "outputs": [
    {
     "name": "stdout",
     "output_type": "stream",
     "text": []
    }
   ],
   "source": [
    "\n",
    "~~~\n",
    "\n",
    "~~~\n",
    "print(meta)\n",
    "~~~\n",
    "{: .language-python}\n",
    "\n",
    "~~~\n",
    "TAP Table name: gaiadr2.gaiadr2.gaia_source\n",
    "Description: This table has an entry for every Gaia observed source as listed in the\n",
    "Main Database accumulating catalogue version from which the catalogue\n",
    "release has been generated. It contains the basic source parameters,\n",
    "that is only final data (no epoch data) and no spectra (neither final\n",
    "nor epoch).\n",
    "Num. columns: 96\n",
    "\n",
    "~~~\n",
    "{: .output}\n",
    "\n",
    "~~~\n",
    "{: .language-python}\n",
    "\n",
    "~~~\n",
    "\n",
    "~~~\n",
    "{: .output}\n"
   ]
  },
  {
   "cell_type": "markdown",
   "metadata": {},
   "source": [
    "## Columns\n",
    "\n",
    "The following loop prints the names of the columns in the table."
   ]
  },
  {
   "cell_type": "code",
   "execution_count": 7,
   "metadata": {
    "tags": [
     "hide-output",
     "truncate-output"
    ]
   },
   "outputs": [
    {
     "name": "stdout",
     "output_type": "stream",
     "text": []
    }
   ],
   "source": [
    "\n",
    "~~~\n",
    "\n",
    "~~~\n",
    "for column in meta.columns:\n",
    "    print(column.name)\n",
    "~~~\n",
    "{: .language-python}\n",
    "\n",
    "~~~\n",
    "solution_id\n",
    "designation\n",
    "source_id\n",
    "random_index\n",
    "ref_epoch\n",
    "ra\n",
    "ra_error\n",
    "dec\n",
    "dec_error\n",
    "parallax\n",
    "parallax_error\n",
    "[Output truncated]\n",
    "~~~\n",
    "{: .output}\n",
    "\n",
    "~~~\n",
    "{: .language-python}\n",
    "\n",
    "~~~\n",
    "\n",
    "~~~\n",
    "{: .output}\n"
   ]
  },
  {
   "cell_type": "markdown",
   "metadata": {},
   "source": [
    "You can probably guess what many of these columns are by looking at\n",
    "the names, but you should resist the temptation to guess.\n",
    "To find out what the columns mean, [read the\n",
    "documentation](https://gea.esac.esa.int/archive/documentation/GDR2/Gaia_archive/chap_datamodel/sec_dm_main_tables/ssec_dm_gaia_source.html).\n",
    "\n",
    "If you want to know what can go wrong when you don't read the\n",
    "documentation, [you might like this\n",
    "article](https://www.vox.com/future-perfect/2019/6/4/18650969/married-women-miserable-fake-paul-dolan-happiness)."
   ]
  },
  {
   "cell_type": "markdown",
   "metadata": {},
   "source": [
    "> ## Exercise\n",
    "> : \n",
    "> : One of the other tables we'll use is\n",
    "> : `gaiadr2.panstarrs1_original_valid`.  Use `load_table` to get the\n",
    "> : metadata for this table.  How many columns are there and what are\n",
    "> : their names?"
   ]
  },
  {
   "cell_type": "code",
   "execution_count": 8,
   "metadata": {
    "tags": [
     "hide-cell"
    ]
   },
   "outputs": [
    {
     "name": "stdout",
     "output_type": "stream",
     "text": []
    }
   ],
   "source": [
    "\n",
    "~~~\n",
    ">\n",
    "> > ## Solution\n",
    "> > \n",
    "> > ~~~\n",
    "> > \n",
    "> > meta2 = Gaia.load_table('gaiadr2.panstarrs1_original_valid')\n",
    "> > print(meta2)\n",
    "> > \n",
    "> > for column in meta2.columns:\n",
    "> >     print(column.name)\n",
    "> > ~~~\n",
    "> > {: .language-python}\n",
    "> {: .solution}\n",
    "{: .challenge}\n",
    "\n",
    "\n",
    "~~~\n",
    "{: .language-python}\n",
    "\n",
    "~~~\n",
    "Retrieving table 'gaiadr2.panstarrs1_original_valid'\n",
    "Parsing table 'gaiadr2.panstarrs1_original_valid'...\n",
    "Done.\n",
    "TAP Table name: gaiadr2.gaiadr2.panstarrs1_original_valid\n",
    "Description: The Panoramic Survey Telescope and Rapid Response System (Pan-STARRS) is\n",
    "a system for wide-field astronomical imaging developed and operated by\n",
    "the Institute for Astronomy at the University of Hawaii. Pan-STARRS1\n",
    "(PS1) is the first part of Pan-STARRS to be completed and is the basis\n",
    "for Data Release 1 (DR1). The PS1 survey used a 1.8 meter telescope and\n",
    "its 1.4 Gigapixel camera to image the sky in five broadband filters (g,\n",
    "r, i, z, y).\n",
    "[Output truncated]\n",
    "~~~\n",
    "{: .output}\n"
   ]
  },
  {
   "cell_type": "markdown",
   "metadata": {},
   "source": [
    "## Writing queries\n",
    "\n",
    "By now you might be wondering how we download the actual data.  With\n",
    "tables this big, you generally don't.  Instead, you use queries to\n",
    "select only the data you want.\n",
    "\n",
    "A query is a string written in a query language like SQL; for the Gaia\n",
    "database, the query language is a dialect of SQL called ADQL.\n",
    "\n",
    "Here's an example of an ADQL query."
   ]
  },
  {
   "cell_type": "code",
   "execution_count": 9,
   "metadata": {},
   "outputs": [],
   "source": [
    "\n",
    "~~~\n",
    "\n",
    "~~~\n",
    "query1 = \"\"\"SELECT \n",
    "TOP 10\n",
    "source_id, ra, dec, parallax \n",
    "FROM gaiadr2.gaia_source\n",
    "\"\"\"\n",
    "~~~\n",
    "{: .language-python}\n",
    "~~~\n",
    "{: .language-python}"
   ]
  },
  {
   "cell_type": "markdown",
   "metadata": {},
   "source": [
    "**Python note:** We use a [triple-quoted\n",
    "string](https://docs.python.org/3/tutorial/introduction.html#strings)\n",
    "here so we can include line breaks in the query, which makes it easier\n",
    "to read.\n",
    "\n",
    "The words in uppercase are ADQL keywords:\n",
    "\n",
    "* `SELECT` indicates that we are selecting data (as opposed to adding\n",
    "or modifying data).\n",
    "\n",
    "* `TOP` indicates that we only want the first 10 rows of the table,\n",
    "which is useful for testing a query before asking for all of the data.\n",
    "\n",
    "* `FROM` specifies which table we want data from.\n",
    "\n",
    "The third line is a list of column names, indicating which columns we want.  \n",
    "\n",
    "In this example, the keywords are capitalized and the column names are\n",
    "lowercase.  This is a common style, but it is not required.  ADQL and\n",
    "SQL are not case-sensitive.\n",
    "\n",
    "Also, the query is broken into multiple lines to make it more\n",
    "readable.  This is a common style, but not required.  Line breaks\n",
    "don't affect the behavior of the query."
   ]
  },
  {
   "cell_type": "markdown",
   "metadata": {},
   "source": [
    "To run this query, we use the `Gaia` object, which represents our\n",
    "connection to the Gaia database, and invoke `launch_job`:"
   ]
  },
  {
   "cell_type": "code",
   "execution_count": 10,
   "metadata": {},
   "outputs": [
    {
     "data": {
      "text/plain": []
     },
     "execution_count": 10,
     "metadata": {},
     "output_type": "execute_result"
    }
   ],
   "source": [
    "\n",
    "~~~\n",
    "\n",
    "~~~\n",
    "job = Gaia.launch_job(query1)\n",
    "job\n",
    "~~~\n",
    "{: .language-python}\n",
    "\n",
    "~~~\n",
    "<astroquery.utils.tap.model.job.Job at 0x7f208b5a49a0>\n",
    "~~~\n",
    "{: .output}\n",
    "\n",
    "~~~\n",
    "{: .language-python}\n",
    "\n",
    "~~~\n",
    "\n",
    "~~~\n",
    "{: .output}\n"
   ]
  },
  {
   "cell_type": "markdown",
   "metadata": {},
   "source": [
    "The result is an object that represents the job running on a Gaia server.\n",
    "\n",
    "If you print it, it displays metadata for the forthcoming table."
   ]
  },
  {
   "cell_type": "code",
   "execution_count": 11,
   "metadata": {},
   "outputs": [
    {
     "name": "stdout",
     "output_type": "stream",
     "text": []
    }
   ],
   "source": [
    "\n",
    "~~~\n",
    "\n",
    "~~~\n",
    "print(job)\n",
    "~~~\n",
    "{: .language-python}\n",
    "\n",
    "~~~\n",
    "<Table length=10>\n",
    "   name    dtype  unit                            description                             n_bad\n",
    "--------- ------- ---- ------------------------------------------------------------------ -----\n",
    "source_id   int64      Unique source identifier (unique within a particular Data Release)     0\n",
    "       ra float64  deg                                                    Right ascension     0\n",
    "      dec float64  deg                                                        Declination     0\n",
    " parallax float64  mas                                                           Parallax     3\n",
    "Jobid: None\n",
    "Phase: COMPLETED\n",
    "Owner: None\n",
    "Output file: sync_20210113094733.xml.gz\n",
    "[Output truncated]\n",
    "~~~\n",
    "{: .output}\n",
    "\n",
    "~~~\n",
    "{: .language-python}\n",
    "\n",
    "~~~\n",
    "\n",
    "~~~\n",
    "{: .output}\n"
   ]
  },
  {
   "cell_type": "markdown",
   "metadata": {},
   "source": [
    "Don't worry about `Results: None`.  That does not actually mean there\n",
    "are no results.\n",
    "\n",
    "However, `Phase: COMPLETED` indicates that the job is complete, so we\n",
    "can get the results like this:"
   ]
  },
  {
   "cell_type": "code",
   "execution_count": 12,
   "metadata": {},
   "outputs": [
    {
     "data": {
      "text/plain": []
     },
     "execution_count": 12,
     "metadata": {},
     "output_type": "execute_result"
    }
   ],
   "source": [
    "\n",
    "~~~\n",
    "\n",
    "~~~\n",
    "results = job.get_results()\n",
    "type(results)\n",
    "~~~\n",
    "{: .language-python}\n",
    "\n",
    "~~~\n",
    "astropy.table.table.Table\n",
    "~~~\n",
    "{: .output}\n",
    "\n",
    "~~~\n",
    "{: .language-python}\n",
    "\n",
    "~~~\n",
    "\n",
    "~~~\n",
    "{: .output}\n"
   ]
  },
  {
   "cell_type": "markdown",
   "metadata": {},
   "source": [
    "**Optional detail:**  Why is `table` repeated three times?  The first\n",
    "is the name of the module, the second is the name of the submodule,\n",
    "and the third is the name of the class.  Most of the time we only care\n",
    "about the last one.  It's like the Linnean name for gorilla, which is\n",
    "*Gorilla gorilla gorilla*."
   ]
  },
  {
   "cell_type": "markdown",
   "metadata": {},
   "source": [
    "The result is an [Astropy\n",
    "Table](https://docs.astropy.org/en/stable/table/), which is similar to\n",
    "a table in an SQL database except:\n",
    "\n",
    "* SQL databases are stored on disk drives, so they are persistent;\n",
    "that is, they \"survive\" even if you turn off the computer.  An Astropy\n",
    "`Table` is stored in memory; it disappears when you turn off the\n",
    "computer (or shut down this Jupyter notebook).\n",
    "\n",
    "* SQL databases are designed to process queries.  An Astropy `Table`\n",
    "can perform some query-like operations, like selecting columns and\n",
    "rows.  But these operations use Python syntax, not SQL.\n",
    "\n",
    "Jupyter knows how to display the contents of a `Table`."
   ]
  },
  {
   "cell_type": "code",
   "execution_count": 13,
   "metadata": {},
   "outputs": [
    {
     "data": {
      "text/html": [
       "<i>Table length=10</i>\n",
       "<table id=\"table139777753632192\" class=\"table-striped table-bordered table-condensed\">\n",
       "<thead><tr><th>source_id</th><th>ra</th><th>dec</th><th>parallax</th></tr></thead>\n",
       "<thead><tr><th></th><th>deg</th><th>deg</th><th>mas</th></tr></thead>\n",
       "<thead><tr><th>int64</th><th>float64</th><th>float64</th><th>float64</th></tr></thead>\n",
       "<tr><td>4036442223689093632</td><td>268.1632016769232</td><td>-39.45184716473943</td><td>1.1699115050505098</td></tr>\n",
       "<tr><td>4036432465518023424</td><td>268.4099737354832</td><td>-39.48255132974542</td><td>0.09728878869604544</td></tr>\n",
       "<tr><td>4036431056767171072</td><td>268.4987929943058</td><td>-39.546378864610695</td><td>--</td></tr>\n",
       "<tr><td>4036427586432136576</td><td>268.1550746929837</td><td>-39.640672063878434</td><td>-1.6517420537894711</td></tr>\n",
       "<tr><td>4036422295031001856</td><td>268.295159195894</td><td>-39.75110784405333</td><td>--</td></tr>\n",
       "<tr><td>4036435454861834880</td><td>268.402863428808</td><td>-39.4490745170462</td><td>0.47166978762943135</td></tr>\n",
       "<tr><td>4036423497622557184</td><td>268.22982540766145</td><td>-39.695491626875175</td><td>-0.0018594810744405113</td></tr>\n",
       "<tr><td>4036432706082489344</td><td>268.53765532143115</td><td>-39.49836075294007</td><td>0.294780085311733</td></tr>\n",
       "<tr><td>4036431984481125248</td><td>268.4176240506027</td><td>-39.52535476978414</td><td>-0.23707477297436713</td></tr>\n",
       "<tr><td>4036439784146944768</td><td>268.118736733789</td><td>-39.55860223906007</td><td>--</td></tr>\n",
       "</table>"
      ],
      "text/plain": []
     },
     "execution_count": 13,
     "metadata": {},
     "output_type": "execute_result"
    }
   ],
   "source": [
    "\n",
    "~~~\n",
    "\n",
    "~~~\n",
    "results1\n",
    "~~~\n",
    "{: .language-python}\n",
    "\n",
    "~~~\n",
    "<Table length=10>\n",
    "     source_id              ra         ...        parallax       \n",
    "                           deg         ...          mas          \n",
    "       int64             float64       ...        float64        \n",
    "------------------- ------------------ ... ----------------------\n",
    "4036442223689093632  268.1632016769232 ...     1.1699115050505098\n",
    "4036432465518023424  268.4099737354832 ...    0.09728878869604544\n",
    "4036431056767171072  268.4987929943058 ...                     --\n",
    "4036427586432136576  268.1550746929837 ...    -1.6517420537894711\n",
    "4036422295031001856   268.295159195894 ...                     --\n",
    "4036435454861834880   268.402863428808 ...    0.47166978762943135\n",
    "[Output truncated]\n",
    "~~~\n",
    "{: .output}\n",
    "\n",
    "~~~\n",
    "{: .language-python}\n",
    "\n",
    "~~~\n",
    "\n",
    "~~~\n",
    "{: .output}\n"
   ]
  },
  {
   "cell_type": "markdown",
   "metadata": {},
   "source": [
    "Each column has a name, units, and a data type.\n",
    "\n",
    "For example, the units of `ra` and `dec` are degrees, and their data\n",
    "type is `float64`, which is a 64-bit floating-point number, used to\n",
    "store measurements with a fraction part.\n",
    "\n",
    "This information comes from the Gaia database, and has been stored in\n",
    "the Astropy `Table` by Astroquery."
   ]
  },
  {
   "cell_type": "markdown",
   "metadata": {},
   "source": [
    "> ## Exercise\n",
    "> : \n",
    "> : Read [the documentation of this\n",
    "> :\n",
    "table](https://gea.esac.esa.int/archive/documentation/GDR2/Gaia_archive/chap_datamodel/sec_dm_main_tables/ssec_dm_gaia_source.html)\n",
    "> : and choose a column that looks interesting to you.  Add the column\n",
    "> : name to the query and run it again.  What are the units of the column\n",
    "> : you selected?  What is its data type?"
   ]
  },
  {
   "cell_type": "code",
   "execution_count": 14,
   "metadata": {},
   "outputs": [],
   "source": [
    "\n",
    "~~~\n",
    ">\n",
    "> > ## Solution\n",
    "> > \n",
    "> > ~~~\n",
    "> > \n",
    "> > # Let's add\n",
    "> > #\n",
    "> > # radial_velocity : Radial velocity (double, Velocity[km/s] )\n",
    "> > #\n",
    "> > # Spectroscopic radial velocity in the solar barycentric \n",
    "> > # reference frame.\n",
    "> > #\n",
    "> > # The radial velocity provided is the median value of the \n",
    "> > # radial velocity measurements at all epochs.\n",
    "> > \n",
    "> > query = \"\"\"SELECT \n",
    "> > TOP 10\n",
    "> > source_id, ra, dec, parallax, radial_velocity\n",
    "> > FROM gaiadr2.gaia_source\n",
    "> > \"\"\"\n",
    "> > ~~~\n",
    "> > {: .language-python}\n",
    "> {: .solution}\n",
    "{: .challenge}\n",
    "\n",
    "\n",
    "~~~\n",
    "{: .language-python}"
   ]
  },
  {
   "cell_type": "markdown",
   "metadata": {},
   "source": [
    "## Asynchronous queries\n",
    "\n",
    "`launch_job` asks the server to run the job \"synchronously\", which\n",
    "normally means it runs immediately.  But synchronous jobs are limited\n",
    "to 2000 rows.  For queries that return more rows, you should run\n",
    "\"asynchronously\", which mean they might take longer to get started.\n",
    "\n",
    "If you are not sure how many rows a query will return, you can use the\n",
    "SQL command `COUNT` to find out how many rows are in the result\n",
    "without actually returning them.  We'll see an example in the next\n",
    "lesson.\n",
    "\n",
    "The results of an asynchronous query are stored in a file on the\n",
    "server, so you can start a query and come back later to get the\n",
    "results.\n",
    "For anonymous users, files are kept for three days.\n",
    "\n",
    "As an example, let's try a query that's similar to `query1`, with these changes:\n",
    "\n",
    "* It selects the first 3000 rows, so it is bigger than we should run\n",
    "synchronously.\n",
    "\n",
    "* It selects two additional columns, `pmra` and `pmdec`, which are\n",
    "proper motions along the axes of `ra` and `dec`.\n",
    "\n",
    "* It uses a new keyword, `WHERE`."
   ]
  },
  {
   "cell_type": "code",
   "execution_count": 15,
   "metadata": {},
   "outputs": [],
   "source": [
    "\n",
    "~~~\n",
    "\n",
    "~~~\n",
    "query2 = \"\"\"SELECT \n",
    "TOP 3000\n",
    "source_id, ra, dec, pmra, pmdec, parallax\n",
    "FROM gaiadr2.gaia_source\n",
    "WHERE parallax < 1\n",
    "\"\"\"\n",
    "~~~\n",
    "{: .language-python}\n",
    "~~~\n",
    "{: .language-python}"
   ]
  },
  {
   "cell_type": "markdown",
   "metadata": {},
   "source": [
    "A `WHERE` clause indicates which rows we want; in this case, the query\n",
    "selects only rows \"where\" `parallax` is less than 1.  This has the\n",
    "effect of selecting stars with relatively low parallax, which are\n",
    "farther away.\n",
    "We use this clause to exclude nearby stars that are unlikely to be part of GD-1.\n",
    "\n",
    "`WHERE` is one of the most common clauses in ADQL/SQL, and one of the\n",
    "most useful, because it allows us to download only the rows we need\n",
    "from the database.\n",
    "\n",
    "We use `launch_job_async` to submit an asynchronous query."
   ]
  },
  {
   "cell_type": "code",
   "execution_count": 29,
   "metadata": {},
   "outputs": [
    {
     "name": "stdout",
     "output_type": "stream",
     "text": []
    },
    {
     "data": {
      "text/plain": []
     },
     "execution_count": 29,
     "metadata": {},
     "output_type": "execute_result"
    }
   ],
   "source": [
    "\n",
    "~~~\n",
    "\n",
    "~~~\n",
    "job = Gaia.launch_job_async(query)\n",
    "job\n",
    "~~~\n",
    "{: .language-python}\n",
    "\n",
    "~~~\n",
    "INFO: Query finished. [astroquery.utils.tap.core]\n",
    "\n",
    "<astroquery.utils.tap.model.job.Job at 0x7f208c75e7c0>\n",
    "~~~\n",
    "{: .output}\n",
    "\n",
    "~~~\n",
    "{: .language-python}\n",
    "\n",
    "~~~\n",
    "\n",
    "\n",
    "~~~\n",
    "{: .output}\n"
   ]
  },
  {
   "cell_type": "markdown",
   "metadata": {},
   "source": [
    "And here are the results."
   ]
  },
  {
   "cell_type": "code",
   "execution_count": 18,
   "metadata": {},
   "outputs": [
    {
     "data": {
      "text/html": [
       "<i>Table length=3000</i>\n",
       "<table id=\"table139777750656528\" class=\"table-striped table-bordered table-condensed\">\n",
       "<thead><tr><th>source_id</th><th>ra</th><th>dec</th><th>pmra</th><th>pmdec</th><th>parallax</th></tr></thead>\n",
       "<thead><tr><th></th><th>deg</th><th>deg</th><th>mas / yr</th><th>mas / yr</th><th>mas</th></tr></thead>\n",
       "<thead><tr><th>int64</th><th>float64</th><th>float64</th><th>float64</th><th>float64</th><th>float64</th></tr></thead>\n",
       "<tr><td>4036432465518023424</td><td>268.4099737354832</td><td>-39.48255132974542</td><td>-6.18591186141027</td><td>-9.901482693050884</td><td>0.09728878869604544</td></tr>\n",
       "<tr><td>4036427586432136576</td><td>268.1550746929837</td><td>-39.640672063878434</td><td>2.902531307436574</td><td>-2.6372995461983555</td><td>-1.6517420537894711</td></tr>\n",
       "<tr><td>4036435454861834880</td><td>268.402863428808</td><td>-39.4490745170462</td><td>-2.9204452670058174</td><td>-0.6600330794265028</td><td>0.47166978762943135</td></tr>\n",
       "<tr><td>4036423497622557184</td><td>268.22982540766145</td><td>-39.695491626875175</td><td>-3.3502947606249847</td><td>-3.9994189219114302</td><td>-0.0018594810744405113</td></tr>\n",
       "<tr><td>4036432706082489344</td><td>268.53765532143115</td><td>-39.49836075294007</td><td>2.2117535185619137</td><td>0.26989064159601095</td><td>0.294780085311733</td></tr>\n",
       "<tr><td>4036431984481125248</td><td>268.4176240506027</td><td>-39.52535476978414</td><td>-4.657776446841011</td><td>-1.5298512820469425</td><td>-0.23707477297436713</td></tr>\n",
       "<tr><td>4036433942986772864</td><td>268.4446322062673</td><td>-39.45434881922685</td><td>-1.268163073772277</td><td>-3.143326774839096</td><td>0.4383827477396896</td></tr>\n",
       "<tr><td>4036434767622765568</td><td>268.3397669855326</td><td>-39.533206030665674</td><td>-2.570383074581705</td><td>-7.8309562837625695</td><td>0.9802160615520338</td></tr>\n",
       "<tr><td>4036426658716007680</td><td>268.2325720330626</td><td>-39.636792360242836</td><td>-3.483222377252905</td><td>-11.518985840909323</td><td>0.3402866531323366</td></tr>\n",
       "<tr><td>...</td><td>...</td><td>...</td><td>...</td><td>...</td><td>...</td></tr>\n",
       "<tr><td>4036429643676361088</td><td>268.1940481392251</td><td>-39.53484810691843</td><td>-0.5399180238167743</td><td>-0.43950577474250674</td><td>0.09673690064167999</td></tr>\n",
       "<tr><td>4036434389663288448</td><td>268.51391606591034</td><td>-39.40538040808745</td><td>-2.6667782256956745</td><td>-3.3321195693502235</td><td>0.614141340458613</td></tr>\n",
       "<tr><td>4036423291461004800</td><td>268.2446471322681</td><td>-39.698336039409675</td><td>-3.525450125069836</td><td>-4.404888528602299</td><td>0.6173594385857027</td></tr>\n",
       "<tr><td>4036440196464371328</td><td>268.1093614056419</td><td>-39.511003642540814</td><td>-4.149726381202896</td><td>-2.4847916296292567</td><td>0.477742037030516</td></tr>\n",
       "<tr><td>4036428720300382720</td><td>268.29821418217523</td><td>-39.57587285989207</td><td>-5.998673555253831</td><td>-9.23082959079349</td><td>-0.47420031990483885</td></tr>\n",
       "<tr><td>4036442601646439168</td><td>268.14514023769215</td><td>-39.44636747310117</td><td>-0.6481888801608459</td><td>-4.502398437965107</td><td>0.4456397029007401</td></tr>\n",
       "<tr><td>4036433393230070016</td><td>268.54224417983687</td><td>-39.45140942552161</td><td>1.3749953846556249</td><td>-9.205922550553257</td><td>0.22018046862051377</td></tr>\n",
       "<tr><td>4036429407495950464</td><td>268.22710083295215</td><td>-39.54661989184268</td><td>-3.802526532062553</td><td>-3.227275729455894</td><td>-0.14612958706070997</td></tr>\n",
       "<tr><td>4036439200034820608</td><td>268.05859875239844</td><td>-39.61886564077019</td><td>-2.1172181651309834</td><td>-3.7754096391993404</td><td>-0.5167970688281044</td></tr>\n",
       "<tr><td>4036441772690773632</td><td>268.16153516094687</td><td>-39.48158028904507</td><td>-4.015920758803185</td><td>-3.4190173584838024</td><td>0.45270857335252485</td></tr>\n",
       "</table>"
      ],
      "text/plain": []
     },
     "execution_count": 18,
     "metadata": {},
     "output_type": "execute_result"
    }
   ],
   "source": [
    "\n",
    "~~~\n",
    "\n",
    "~~~\n",
    "results = job.get_results()\n",
    "results\n",
    "~~~\n",
    "{: .language-python}\n",
    "\n",
    "~~~\n",
    "<Table length=3000>\n",
    "     source_id              ra         ...        parallax       \n",
    "                           deg         ...          mas          \n",
    "       int64             float64       ...        float64        \n",
    "------------------- ------------------ ... ----------------------\n",
    "4036432465518023424  268.4099737354832 ...    0.09728878869604544\n",
    "4036427586432136576  268.1550746929837 ...    -1.6517420537894711\n",
    "4036435454861834880   268.402863428808 ...    0.47166978762943135\n",
    "4036423497622557184 268.22982540766145 ... -0.0018594810744405113\n",
    "4036432706082489344 268.53765532143115 ...      0.294780085311733\n",
    "4036431984481125248  268.4176240506027 ...   -0.23707477297436713\n",
    "[Output truncated]\n",
    "~~~\n",
    "{: .output}\n",
    "\n",
    "~~~\n",
    "{: .language-python}\n",
    "\n",
    "~~~\n",
    "\n",
    "~~~\n",
    "{: .output}\n"
   ]
  },
  {
   "cell_type": "markdown",
   "metadata": {},
   "source": [
    "You might notice that some values of `parallax` are negative.  As\n",
    "[this FAQ\n",
    "explains](https://www.cosmos.esa.int/web/gaia/archive-tips#negative%20parallax),\n",
    "\"Negative parallaxes are caused by errors in the observations.\"\n",
    "Negative parallaxes have \"no physical meaning,\" but they can be a\n",
    "\"useful diagnostic on the quality of the astrometric solution.\""
   ]
  },
  {
   "cell_type": "markdown",
   "metadata": {},
   "source": [
    "> ## Exercise\n",
    "> : \n",
    "> : The clauses in a query have to be in the right order.  Go back and\n",
    "> : change the order of the clauses in `query2` and run it again.\n",
    "> : \n",
    "> : The modified query should fail, but notice that you don't get much\n",
    "> : useful debugging information.\n",
    "> : \n",
    "> : For this reason, developing and debugging ADQL queries can be really\n",
    "> : hard.  A few suggestions that might help:\n",
    "> : \n",
    "> : * Whenever possible, start with a working query, either an example you\n",
    "> : find online or a query you have used in the past.\n",
    "> : \n",
    "> : * Make small changes and test each change before you continue.\n",
    "> : \n",
    "> : * While you are debugging, use `TOP` to limit the number of rows in\n",
    "> : the result.  That will make each test run faster, which reduces your\n",
    "> : development time.\n",
    "> : \n",
    "> : * Launching test queries synchronously might make them start faster, too."
   ]
  },
  {
   "cell_type": "code",
   "execution_count": 19,
   "metadata": {},
   "outputs": [],
   "source": [
    "\n",
    "~~~\n",
    ">\n",
    "> > ## Solution\n",
    "> > \n",
    "> > ~~~\n",
    "> > \n",
    "> > # In this example, the WHERE clause is in the wrong place\n",
    "> > \n",
    "> > query = \"\"\"SELECT \n",
    "> > TOP 3000\n",
    "> > WHERE parallax < 1\n",
    "> > source_id, ref_epoch, ra, dec, parallax\n",
    "> > FROM gaiadr2.gaia_source\n",
    "> > \"\"\"\n",
    "> > ~~~\n",
    "> > {: .language-python}\n",
    "> {: .solution}\n",
    "{: .challenge}\n",
    "\n",
    "\n",
    "~~~\n",
    "{: .language-python}"
   ]
  },
  {
   "cell_type": "markdown",
   "metadata": {},
   "source": [
    "## Operators\n",
    "\n",
    "In a `WHERE` clause, you can use any of the [SQL comparison\n",
    "operators](https://www.w3schools.com/sql/sql_operators.asp); here are\n",
    "the most common ones:\n",
    "\n",
    "| Symbol | Operation\n",
    "|--------| :---\n",
    "| `>` | greater than\n",
    "| `<` | less than\n",
    "| `>=` | greater than or equal\n",
    "| `<=` | less than or equal\n",
    "| `=` | equal\n",
    "| `!=` or `<>` | not equal\n",
    "\n",
    "Most of these are the same as Python, but some are not.  In\n",
    "particular, notice that the equality operator is `=`, not `==`.\n",
    "Be careful to keep your Python out of your ADQL!\n",
    "\n",
    "You can combine comparisons using the logical operators:\n",
    "\n",
    "* AND: true if both comparisons are true\n",
    "* OR: true if either or both comparisons are true\n",
    "\n",
    "Finally, you can use `NOT` to invert the result of a comparison. "
   ]
  },
  {
   "cell_type": "markdown",
   "metadata": {},
   "source": [
    "> ## Exercise\n",
    "> : \n",
    "> : [Read about SQL operators\n",
    "> : here](https://www.w3schools.com/sql/sql_operators.asp) and then modify\n",
    "> : the previous query to select rows where `bp_rp` is between `-0.75` and\n",
    "> : `2`."
   ]
  },
  {
   "cell_type": "code",
   "execution_count": 20,
   "metadata": {
    "tags": [
     "hide-cell"
    ]
   },
   "outputs": [],
   "source": [
    "\n",
    "~~~\n",
    ">\n",
    "> > ## Solution\n",
    "> > \n",
    "> > ~~~\n",
    "> > \n",
    "> > # Here's a solution using > and < operators\n",
    "> > \n",
    "> > query = \"\"\"SELECT \n",
    "> > TOP 10\n",
    "> > source_id, ref_epoch, ra, dec, parallax\n",
    "> > FROM gaiadr2.gaia_source\n",
    "> > WHERE parallax < 1 \n",
    "> >   AND bp_rp > -0.75 AND bp_rp < 2\n",
    "> > \"\"\"\n",
    "> > \n",
    "> > # And here's a solution using the BETWEEN operator\n",
    "> > \n",
    "> > query = \"\"\"SELECT \n",
    "> > TOP 10\n",
    "> > source_id, ref_epoch, ra, dec, parallax\n",
    "> > FROM gaiadr2.gaia_source\n",
    "> > WHERE parallax < 1 \n",
    "> >   AND bp_rp BETWEEN -0.75 AND 2\n",
    "> > \"\"\"\n",
    "> > ~~~\n",
    "> > {: .language-python}\n",
    "> {: .solution}\n",
    "{: .challenge}\n",
    "\n",
    "\n",
    "~~~\n",
    "{: .language-python}"
   ]
  },
  {
   "cell_type": "markdown",
   "metadata": {},
   "source": [
    "`bp_rp` contains BP-RP color, which is the difference between two\n",
    "other columns, `phot_bp_mean_mag` and `phot_rp_mean_mag`.\n",
    "You can [read about this variable\n",
    "here](https://gea.esac.esa.int/archive/documentation/GDR2/Gaia_archive/chap_datamodel/sec_dm_main_tables/ssec_dm_gaia_source.html).\n",
    "\n",
    "This [Hertzsprung-Russell\n",
    "diagram](https://sci.esa.int/web/gaia/-/60198-gaia-hertzsprung-russell-diagram)\n",
    "shows the BP-RP color and luminosity of stars in the Gaia catalog\n",
    "(Copyright: ESA/Gaia/DPAC, CC BY-SA 3.0 IGO).\n",
    "\n",
    "<img width=\"300\"\n",
    "src=\"https://github.com/AllenDowney/AstronomicalData/raw/main/images/1567214809100-ESA_Gaia_DR2_HRD_Gaia_625.jpg\">\n",
    "\n",
    "Selecting stars with `bp-rp` less than 2 excludes many [class M dwarf\n",
    "stars](https://xkcd.com/2360/), which are low temperature, low\n",
    "luminosity.  A star like that at GD-1's distance would be hard to\n",
    "detect, so if it is detected, it it more likely to be in the\n",
    "foreground."
   ]
  },
  {
   "cell_type": "markdown",
   "metadata": {},
   "source": [
    "## Formatting queries\n",
    "\n",
    "The queries we have written so far are string \"literals\", meaning that\n",
    "the entire string is part of the program.\n",
    "But writing queries yourself can be slow, repetitive, and error-prone.\n",
    "\n",
    "It is often a good idea to write Python code that assembles a query\n",
    "for you.  One useful tool for that is the [string `format`\n",
    "method](https://www.w3schools.com/python/ref_string_format.asp).\n",
    "\n",
    "As an example, we'll divide the previous query into two parts; a list\n",
    "of column names and a \"base\" for the query that contains everything\n",
    "except the column names.\n",
    "\n",
    "Here's the list of columns we'll select.  "
   ]
  },
  {
   "cell_type": "code",
   "execution_count": 21,
   "metadata": {},
   "outputs": [],
   "source": [
    "\n",
    "~~~\n",
    "\n",
    "~~~\n",
    "columns = 'source_id, ra, dec, pmra, pmdec, parallax'\n",
    "~~~\n",
    "{: .language-python}\n",
    "~~~\n",
    "{: .language-python}"
   ]
  },
  {
   "cell_type": "markdown",
   "metadata": {},
   "source": [
    "And here's the base; it's a string that contains at least one format\n",
    "specifier in curly brackets (braces)."
   ]
  },
  {
   "cell_type": "code",
   "execution_count": 22,
   "metadata": {},
   "outputs": [],
   "source": [
    "\n",
    "~~~\n",
    "\n",
    "~~~\n",
    "query3_base = \"\"\"SELECT \n",
    "TOP 10 \n",
    "{columns}\n",
    "FROM gaiadr2.gaia_source\n",
    "WHERE parallax < 1\n",
    "  AND bp_rp BETWEEN -0.75 AND 2\n",
    "\"\"\"\n",
    "~~~\n",
    "{: .language-python}\n",
    "~~~\n",
    "{: .language-python}"
   ]
  },
  {
   "cell_type": "markdown",
   "metadata": {},
   "source": [
    "This base query contains one format specifier, `{columns}`, which is a\n",
    "placeholder for the list of column names we will provide.\n",
    "\n",
    "To assemble the query, we invoke `format` on the base string and\n",
    "provide a keyword argument that assigns a value to `columns`."
   ]
  },
  {
   "cell_type": "code",
   "execution_count": 23,
   "metadata": {},
   "outputs": [],
   "source": [
    "\n",
    "~~~\n",
    "\n",
    "~~~\n",
    "query3 = query3_base.format(columns=columns)\n",
    "~~~\n",
    "{: .language-python}\n",
    "~~~\n",
    "{: .language-python}"
   ]
  },
  {
   "cell_type": "markdown",
   "metadata": {},
   "source": [
    "The result is a string with line breaks.  If you display it, the line\n",
    "breaks appear as `\\n`."
   ]
  },
  {
   "cell_type": "code",
   "execution_count": 24,
   "metadata": {},
   "outputs": [
    {
     "data": {
      "text/plain": []
     },
     "execution_count": 24,
     "metadata": {},
     "output_type": "execute_result"
    }
   ],
   "source": [
    "\n",
    "~~~\n",
    "\n",
    "~~~\n",
    "query3\n",
    "~~~\n",
    "{: .language-python}\n",
    "\n",
    "~~~\n",
    "'SELECT \\nTOP 10 \\nsource_id, ra, dec, pmra, pmdec, parallax\\nFROM gaiadr2.gaia_source\\nWHERE parallax < 1\\n  AND bp_rp BETWEEN -0.75 AND 2\\n'\n",
    "~~~\n",
    "{: .output}\n",
    "\n",
    "~~~\n",
    "{: .language-python}\n",
    "\n",
    "~~~\n",
    "\n",
    "~~~\n",
    "{: .output}\n"
   ]
  },
  {
   "cell_type": "markdown",
   "metadata": {},
   "source": [
    "But if you print it, the line breaks appear as... line breaks."
   ]
  },
  {
   "cell_type": "code",
   "execution_count": 25,
   "metadata": {},
   "outputs": [
    {
     "name": "stdout",
     "output_type": "stream",
     "text": []
    }
   ],
   "source": [
    "\n",
    "~~~\n",
    "\n",
    "~~~\n",
    "print(query3)\n",
    "~~~\n",
    "{: .language-python}\n",
    "\n",
    "~~~\n",
    "SELECT \n",
    "TOP 10 \n",
    "source_id, ra, dec, pmra, pmdec, parallax\n",
    "FROM gaiadr2.gaia_source\n",
    "WHERE parallax < 1\n",
    "  AND bp_rp BETWEEN -0.75 AND 2\n",
    "\n",
    "\n",
    "~~~\n",
    "{: .output}\n",
    "\n",
    "~~~\n",
    "{: .language-python}\n",
    "\n",
    "~~~\n",
    "\n",
    "~~~\n",
    "{: .output}\n"
   ]
  },
  {
   "cell_type": "markdown",
   "metadata": {},
   "source": [
    "Notice that the format specifier has been replaced with the value of `columns`.\n",
    "\n",
    "Let's run it and see if it works:"
   ]
  },
  {
   "cell_type": "code",
   "execution_count": 26,
   "metadata": {
    "scrolled": true
   },
   "outputs": [
    {
     "name": "stdout",
     "output_type": "stream",
     "text": []
    }
   ],
   "source": [
    "\n",
    "~~~\n",
    "\n",
    "~~~\n",
    "job = Gaia.launch_job(query3)\n",
    "print(job)\n",
    "~~~\n",
    "{: .language-python}\n",
    "\n",
    "~~~\n",
    "<Table length=10>\n",
    "   name    dtype    unit                              description                            \n",
    "--------- ------- -------- ------------------------------------------------------------------\n",
    "source_id   int64          Unique source identifier (unique within a particular Data Release)\n",
    "       ra float64      deg                                                    Right ascension\n",
    "      dec float64      deg                                                        Declination\n",
    "     pmra float64 mas / yr                         Proper motion in right ascension direction\n",
    "    pmdec float64 mas / yr                             Proper motion in declination direction\n",
    " parallax float64      mas                                                           Parallax\n",
    "Jobid: None\n",
    "Phase: COMPLETED\n",
    "[Output truncated]\n",
    "~~~\n",
    "{: .output}\n",
    "\n",
    "~~~\n",
    "{: .language-python}\n",
    "\n",
    "~~~\n",
    "\n",
    "~~~\n",
    "{: .output}\n"
   ]
  },
  {
   "cell_type": "code",
   "execution_count": 27,
   "metadata": {},
   "outputs": [
    {
     "data": {
      "text/html": [
       "<i>Table length=10</i>\n",
       "<table id=\"table139777753221728\" class=\"table-striped table-bordered table-condensed\">\n",
       "<thead><tr><th>source_id</th><th>ra</th><th>dec</th><th>pmra</th><th>pmdec</th><th>parallax</th></tr></thead>\n",
       "<thead><tr><th></th><th>deg</th><th>deg</th><th>mas / yr</th><th>mas / yr</th><th>mas</th></tr></thead>\n",
       "<thead><tr><th>int64</th><th>float64</th><th>float64</th><th>float64</th><th>float64</th><th>float64</th></tr></thead>\n",
       "<tr><td>4036432495535155072</td><td>268.41729223407117</td><td>-39.46918929346299</td><td>-1.4657595289399132</td><td>-5.748127423097124</td><td>-0.11176468032974321</td></tr>\n",
       "<tr><td>4036441536493921920</td><td>268.163280168269</td><td>-39.49035741409665</td><td>-2.133016188076998</td><td>-0.117511099698601</td><td>-0.06466314453980221</td></tr>\n",
       "<tr><td>4036442601646438400</td><td>268.1387976914471</td><td>-39.451546875392324</td><td>-0.9017024454865927</td><td>-6.79073640236943</td><td>-1.1448803059362858</td></tr>\n",
       "<tr><td>4036429201337340672</td><td>268.2935748074385</td><td>-39.511082764583186</td><td>0.23803118725105005</td><td>-2.619620943565854</td><td>0.4772565168467984</td></tr>\n",
       "<tr><td>4036435209981391360</td><td>268.3235008543401</td><td>-39.47076322705205</td><td>-5.269315172794177</td><td>-6.311972787283363</td><td>-0.2260844472181426</td></tr>\n",
       "<tr><td>4036430781889616640</td><td>268.4323413972199</td><td>-39.568388828520796</td><td>0.2101300515915823</td><td>0.5020913360695279</td><td>0.021914470221676332</td></tr>\n",
       "<tr><td>4036434595821886080</td><td>268.51291280069273</td><td>-39.39090803101428</td><td>-2.0281461390898623</td><td>-1.09405424552038</td><td>0.42083898443584056</td></tr>\n",
       "<tr><td>4036426933645905664</td><td>268.2033082657327</td><td>-39.62426797607084</td><td>0.40080910282280036</td><td>-4.320453719127832</td><td>0.6494251580592608</td></tr>\n",
       "<tr><td>4036425108189475968</td><td>268.26633179055267</td><td>-39.648450617498646</td><td>-2.0326696514976903</td><td>-5.868948034915663</td><td>0.23435564036004816</td></tr>\n",
       "<tr><td>4036440368305153280</td><td>268.0417228205479</td><td>-39.55154954991695</td><td>-7.807636960289898</td><td>-7.1469993883954475</td><td>-0.06901432561194154</td></tr>\n",
       "</table>"
      ],
      "text/plain": []
     },
     "execution_count": 27,
     "metadata": {},
     "output_type": "execute_result"
    }
   ],
   "source": [
    "\n",
    "~~~\n",
    "\n",
    "~~~\n",
    "results = job.get_results()\n",
    "results\n",
    "~~~\n",
    "{: .language-python}\n",
    "\n",
    "~~~\n",
    "<Table length=10>\n",
    "     source_id              ra         ...       parallax      \n",
    "                           deg         ...         mas         \n",
    "       int64             float64       ...       float64       \n",
    "------------------- ------------------ ... --------------------\n",
    "4036432495535155072 268.41729223407117 ... -0.11176468032974321\n",
    "4036441536493921920   268.163280168269 ... -0.06466314453980221\n",
    "4036442601646438400  268.1387976914471 ...  -1.1448803059362858\n",
    "4036429201337340672  268.2935748074385 ...   0.4772565168467984\n",
    "4036435209981391360  268.3235008543401 ...  -0.2260844472181426\n",
    "4036430781889616640  268.4323413972199 ... 0.021914470221676332\n",
    "[Output truncated]\n",
    "~~~\n",
    "{: .output}\n",
    "\n",
    "~~~\n",
    "{: .language-python}\n",
    "\n",
    "~~~\n",
    "\n",
    "~~~\n",
    "{: .output}\n"
   ]
  },
  {
   "cell_type": "markdown",
   "metadata": {},
   "source": [
    "Good so far."
   ]
  },
  {
   "cell_type": "markdown",
   "metadata": {},
   "source": [
    "> ## Exercise\n",
    "> : \n",
    "> : This query always selects sources with `parallax` less than 1.  But\n",
    "> : suppose you want to take that upper bound as an input.\n",
    "> : \n",
    "> : Modify `query3_base` to replace `1` with a format specifier like\n",
    "> : `{max_parallax}`.  Now, when you call `format`, add a keyword argument\n",
    "> : that assigns a value to `max_parallax`, and confirm that the format\n",
    "> : specifier gets replaced with the value you provide."
   ]
  },
  {
   "cell_type": "code",
   "execution_count": 28,
   "metadata": {
    "tags": [
     "hide-cell"
    ]
   },
   "outputs": [
    {
     "name": "stdout",
     "output_type": "stream",
     "text": []
    }
   ],
   "source": [
    "\n",
    "~~~\n",
    ">\n",
    "> > ## Solution\n",
    "> > \n",
    "> > ~~~\n",
    "> > \n",
    "> > query_base = \"\"\"SELECT \n",
    "> > TOP 10\n",
    "> > {columns}\n",
    "> > FROM gaiadr2.gaia_source\n",
    "> > WHERE parallax < {max_parallax} AND \n",
    "> > bp_rp BETWEEN -0.75 AND 2\n",
    "> > \"\"\"\n",
    "> > \n",
    "> > query = query_base.format(columns=columns,\n",
    "> >                             max_parallax=0.5)\n",
    "> > print(query)\n",
    "> > ~~~\n",
    "> > {: .language-python}\n",
    "> {: .solution}\n",
    "{: .challenge}\n",
    "\n",
    "\n",
    "~~~\n",
    "{: .language-python}\n",
    "\n",
    "~~~\n",
    "SELECT \n",
    "TOP 10\n",
    "source_id, ra, dec, pmra, pmdec, parallax\n",
    "FROM gaiadr2.gaia_source\n",
    "WHERE parallax < 0.5 AND \n",
    "bp_rp BETWEEN -0.75 AND 2\n",
    "\n",
    "\n",
    "~~~\n",
    "{: .output}\n"
   ]
  },
  {
   "cell_type": "markdown",
   "metadata": {},
   "source": [
    "## Summary\n",
    "\n",
    "This notebook demonstrates the following steps:\n",
    "\n",
    "1. Making a connection to the Gaia server,\n",
    "\n",
    "2. Exploring information about the database and the tables it contains,\n",
    "\n",
    "3. Writing a query and sending it to the server, and finally\n",
    "\n",
    "4. Downloading the response from the server as an Astropy `Table`.\n",
    "\n",
    "In the next lesson we will extend these queries to select a particular\n",
    "region of the sky."
   ]
  },
  {
   "cell_type": "markdown",
   "metadata": {},
   "source": [
    "## Best practices\n",
    "\n",
    "* If you can't download an entire dataset (or it's not practical) use\n",
    "queries to select the data you need.\n",
    "\n",
    "* Read the metadata and the documentation to make sure you understand\n",
    "the tables, their columns, and what they mean.\n",
    "\n",
    "* Develop queries incrementally: start with something simple, test it,\n",
    "and add a little bit at a time.\n",
    "\n",
    "* Use ADQL features like `TOP` and `COUNT` to test before you run a\n",
    "query that might return a lot of data.\n",
    "\n",
    "* If you know your query will return fewer than 3000 rows, you can run\n",
    "it synchronously, which might complete faster.  If it might return\n",
    "more than 3000 rows, you should run it asynchronously.\n",
    "\n",
    "* ADQL and SQL are not case-sensitive, so you don't have to capitalize\n",
    "the keywords, but you should.\n",
    "\n",
    "* ADQL and SQL don't require you to break a query into multiple lines,\n",
    "but you should."
   ]
  },
  {
   "cell_type": "markdown",
   "metadata": {},
   "source": [
    "Jupyter notebooks can be good for developing and testing code, but\n",
    "they have some drawbacks.  In particular, if you run the cells out of\n",
    "order, you might find that variables don't have the values you expect.\n",
    "\n",
    "There are a few things you can do to mitigate these problems:\n",
    "\n",
    "* Make each section of the notebook self-contained.  Try not to use\n",
    "the same variable name in more than one section.\n",
    "\n",
    "* Keep notebooks short.  Look for places where you can break your\n",
    "analysis into phases with one notebook per phase."
   ]
  },
  {
   "cell_type": "code",
   "execution_count": null,
   "metadata": {},
   "outputs": [],
   "source": [
    "\n",
    "~~~\n",
    "\n",
    "~~~\n",
    "\n",
    "~~~\n",
    "{: .language-python}\n",
    "~~~\n",
    "{: .language-python}"
   ]
  }
 ],
 "metadata": {
  "celltoolbar": "Tags",
  "kernelspec": {
   "display_name": "Python 3",
   "language": "python",
   "name": "python3"
  },
  "language_info": {
   "codemirror_mode": {
    "name": "ipython",
    "version": 3
   },
   "file_extension": ".py",
   "mimetype": "text/x-python",
   "name": "python",
   "nbconvert_exporter": "python",
   "pygments_lexer": "ipython3",
   "version": "3.8.5"
  }
 },
 "nbformat": 4,
 "nbformat_minor": 2
}
