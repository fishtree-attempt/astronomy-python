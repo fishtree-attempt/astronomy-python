{
 "cells": [
  {
   "cell_type": "code",
   "execution_count": 1,
   "id": "665d87bb-4f81-403e-ab0b-7bc6d68234ca",
   "metadata": {},
   "outputs": [
    {
     "name": "stdout",
     "output_type": "stream",
     "text": [
      "Created TAP+ (v1.2.1) - Connection:\n",
      "\tHost: gea.esac.esa.int\n",
      "\tUse HTTPS: True\n",
      "\tPort: 443\n",
      "\tSSL Port: 443\n",
      "Created TAP+ (v1.2.1) - Connection:\n",
      "\tHost: geadata.esac.esa.int\n",
      "\tUse HTTPS: True\n",
      "\tPort: 443\n",
      "\tSSL Port: 443\n"
     ]
    }
   ],
   "source": [
    "import sys\n",
    "from astroquery.gaia import Gaia\n",
    "from gala.coordinates import GD1Koposov10\n",
    "\n",
    "sys.path.append('../student_download')\n",
    "from episode_functions import *"
   ]
  },
  {
   "cell_type": "markdown",
   "id": "e8b91eec-7973-4b12-ad45-97acad919a98",
   "metadata": {},
   "source": [
    "# Episode 2: FITS"
   ]
  },
  {
   "cell_type": "code",
   "execution_count": 2,
   "id": "04916f90-6b6d-48c3-94d1-3747374bc060",
   "metadata": {},
   "outputs": [],
   "source": [
    "phi1_min = -55 * u.degree \n",
    "phi1_max = -45 * u.degree\n",
    "phi2_min = -8 * u.degree\n",
    "phi2_max = 4 * u.degree"
   ]
  },
  {
   "cell_type": "code",
   "execution_count": 3,
   "id": "4c7d891b-63fb-46e6-8def-f10c311e03e3",
   "metadata": {},
   "outputs": [],
   "source": [
    "phi1_rect, phi2_rect = make_rectangle(\n",
    "    phi1_min, phi1_max, phi2_min, phi2_max)"
   ]
  },
  {
   "cell_type": "code",
   "execution_count": 4,
   "id": "85db5526-89b4-4e01-ad85-e2b128079647",
   "metadata": {},
   "outputs": [],
   "source": [
    "gd1_frame = GD1Koposov10()\n",
    "corners = SkyCoord(phi1=phi1_rect, phi2=phi2_rect, frame=gd1_frame)"
   ]
  },
  {
   "cell_type": "code",
   "execution_count": 5,
   "id": "086550e9-5548-4539-b240-20923183b9db",
   "metadata": {},
   "outputs": [],
   "source": [
    "corners_icrs = corners.transform_to('icrs')"
   ]
  },
  {
   "cell_type": "code",
   "execution_count": 6,
   "id": "2cd8b21c-754f-4e36-ae26-aa59965f98c9",
   "metadata": {},
   "outputs": [],
   "source": [
    "sky_point_list = skycoord_to_string(corners_icrs)"
   ]
  },
  {
   "cell_type": "code",
   "execution_count": 7,
   "id": "02d70bf6-e77c-4566-be9e-6782cc4b8fbc",
   "metadata": {},
   "outputs": [],
   "source": [
    "columns = 'source_id, ra, dec, pmra, pmdec, parallax'"
   ]
  },
  {
   "cell_type": "code",
   "execution_count": 8,
   "id": "e359d918-f768-4448-ba1c-0a3368ec5ab5",
   "metadata": {},
   "outputs": [],
   "source": [
    "polygon_query_base = \"\"\"SELECT\n",
    "{columns}\n",
    "FROM gaiadr2.gaia_source\n",
    "WHERE parallax < 1\n",
    "  AND bp_rp BETWEEN -0.75 AND 2 \n",
    "  AND 1 = CONTAINS(POINT(ra, dec), \n",
    "                   POLYGON({sky_point_list}))\n",
    "\"\"\""
   ]
  },
  {
   "cell_type": "code",
   "execution_count": 9,
   "id": "43c3ae77-8ea9-462c-a64d-8bef8797ddce",
   "metadata": {},
   "outputs": [],
   "source": [
    "polygon_query = polygon_query_base.format(columns=columns, \n",
    "                          sky_point_list=sky_point_list)"
   ]
  },
  {
   "cell_type": "code",
   "execution_count": 10,
   "id": "d3195e9d-2bad-4a60-bca1-b009346a3ac2",
   "metadata": {},
   "outputs": [
    {
     "name": "stdout",
     "output_type": "stream",
     "text": [
      "INFO: Query finished. [astroquery.utils.tap.core]\n"
     ]
    }
   ],
   "source": [
    "polygon_job = Gaia.launch_job_async(polygon_query)\n",
    "polygon_results = polygon_job.get_results()"
   ]
  },
  {
   "cell_type": "code",
   "execution_count": 11,
   "id": "7340a171-aa6f-4d1f-bd71-383abb171465",
   "metadata": {},
   "outputs": [],
   "source": [
    "filename = 'gd1_results.fits'\n",
    "polygon_results.write(filename, overwrite=True)"
   ]
  },
  {
   "cell_type": "markdown",
   "id": "d60d6e82-3f61-4a68-a5e5-a07955cea9a0",
   "metadata": {},
   "source": [
    "# Episode 3: HDF5"
   ]
  },
  {
   "cell_type": "code",
   "execution_count": 12,
   "id": "70aae506-a228-483b-b835-c0bca57aa9eb",
   "metadata": {},
   "outputs": [],
   "source": [
    "import pandas as pd\n",
    "from gala.coordinates import reflex_correct"
   ]
  },
  {
   "cell_type": "code",
   "execution_count": 13,
   "id": "6e3b1db5-ac65-4fd5-9460-cce2bbabbb39",
   "metadata": {},
   "outputs": [],
   "source": [
    "results_df = make_dataframe(polygon_results)"
   ]
  },
  {
   "cell_type": "code",
   "execution_count": 14,
   "id": "642181be-923f-44e5-98ef-e65c313c020f",
   "metadata": {},
   "outputs": [],
   "source": [
    "phi2_min = -1.0 * u.degree\n",
    "phi2_max = 1.0 * u.degree"
   ]
  },
  {
   "cell_type": "code",
   "execution_count": 15,
   "id": "1456fc48-7f38-4184-bfa0-3811ebf63a44",
   "metadata": {},
   "outputs": [],
   "source": [
    "phi2 = results_df['phi2']\n",
    "mask = (phi2 > phi2_min) & (phi2 < phi2_max)"
   ]
  },
  {
   "cell_type": "code",
   "execution_count": 16,
   "id": "10bc1361-ce42-4681-948d-e7266590998f",
   "metadata": {},
   "outputs": [],
   "source": [
    "centerline_df = results_df[mask]"
   ]
  },
  {
   "cell_type": "code",
   "execution_count": 17,
   "id": "083bd595-df23-4bd0-9901-73498afeb434",
   "metadata": {},
   "outputs": [],
   "source": [
    "pm1_min = -8.9\n",
    "pm1_max = -6.9\n",
    "pm2_min = -2.2\n",
    "pm2_max =  1.0"
   ]
  },
  {
   "cell_type": "code",
   "execution_count": 18,
   "id": "de0f6655-7692-4041-98a5-45afdaab62b6",
   "metadata": {},
   "outputs": [],
   "source": [
    "pm1 = results_df['pm_phi1']\n",
    "pm2 = results_df['pm_phi2']\n",
    "\n",
    "pm_mask = (between(pm1, pm1_min, pm1_max) & \n",
    "           between(pm2, pm2_min, pm2_max))"
   ]
  },
  {
   "cell_type": "code",
   "execution_count": 19,
   "id": "8a6065ac-80f0-4b9a-93a0-a4665078f13a",
   "metadata": {},
   "outputs": [],
   "source": [
    "selected_df = results_df[pm_mask]"
   ]
  },
  {
   "cell_type": "code",
   "execution_count": 20,
   "id": "bc4a41d7-06c2-4702-b2f1-9ab130d57529",
   "metadata": {},
   "outputs": [],
   "source": [
    "filename = 'gd1_data.hdf'\n",
    "\n",
    "selected_df.to_hdf(filename, 'selected_df', mode='w')\n",
    "centerline_df.to_hdf(filename, 'centerline_df')"
   ]
  },
  {
   "cell_type": "markdown",
   "id": "a5577af2-1ab7-4cb7-81f5-0b7cd8b007cc",
   "metadata": {},
   "source": [
    "# Chapter 4: HDF5 cont"
   ]
  },
  {
   "cell_type": "code",
   "execution_count": 21,
   "id": "b7323271-583a-4d89-b928-03c1d46beb43",
   "metadata": {},
   "outputs": [],
   "source": [
    "from scipy.spatial import ConvexHull\n",
    "import numpy as np"
   ]
  },
  {
   "cell_type": "code",
   "execution_count": 22,
   "id": "3f0dafb0-ba39-42a2-a3f1-af69ae3d69d2",
   "metadata": {},
   "outputs": [],
   "source": [
    "points = selected_df[['pmra','pmdec']].to_numpy()"
   ]
  },
  {
   "cell_type": "code",
   "execution_count": 23,
   "id": "ce1c8c28-2f5c-4d31-abfc-717c30936f9b",
   "metadata": {},
   "outputs": [],
   "source": [
    "hull = ConvexHull(points)"
   ]
  },
  {
   "cell_type": "code",
   "execution_count": 24,
   "id": "5ee37465-14a9-42d3-9b72-10f312f117b0",
   "metadata": {},
   "outputs": [],
   "source": [
    "pm_vertices = points[hull.vertices]"
   ]
  },
  {
   "cell_type": "code",
   "execution_count": 25,
   "id": "5e949f6b-a5ae-405d-bfa2-3e8ee96f8516",
   "metadata": {},
   "outputs": [],
   "source": [
    "phi1_min = -70 * u.degree\n",
    "phi1_max = -20 * u.degree\n",
    "phi2_min = -5 * u.degree\n",
    "phi2_max = 5 * u.degree"
   ]
  },
  {
   "cell_type": "code",
   "execution_count": 26,
   "id": "93f410dc-ba50-494c-b7da-76d484190189",
   "metadata": {},
   "outputs": [],
   "source": [
    "phi1_rect, phi2_rect = make_rectangle(\n",
    "    phi1_min, phi1_max, phi2_min, phi2_max)"
   ]
  },
  {
   "cell_type": "code",
   "execution_count": 27,
   "id": "4fe5d608-475f-4828-92a0-6d23314bf60e",
   "metadata": {},
   "outputs": [],
   "source": [
    "corners = SkyCoord(phi1=phi1_rect, \n",
    "                   phi2=phi2_rect, \n",
    "                   frame=gd1_frame)\n",
    "\n",
    "corners_icrs = corners.transform_to('icrs')"
   ]
  },
  {
   "cell_type": "code",
   "execution_count": 28,
   "id": "2f014594-4f1d-4a09-92ab-cc60e396cec2",
   "metadata": {},
   "outputs": [],
   "source": [
    "sky_point_list = skycoord_to_string(corners_icrs)"
   ]
  },
  {
   "cell_type": "code",
   "execution_count": null,
   "id": "c325fd92-553d-4a3b-9a25-5aab043c55c5",
   "metadata": {},
   "outputs": [],
   "source": []
  },
  {
   "cell_type": "code",
   "execution_count": 29,
   "id": "3ffe9b01-b28c-4b13-8b8f-1a207aaf9ce6",
   "metadata": {},
   "outputs": [],
   "source": [
    "s = np.array2string(pm_vertices.flatten(), \n",
    "                    max_line_width=1000,\n",
    "                    separator=',')"
   ]
  },
  {
   "cell_type": "code",
   "execution_count": 30,
   "id": "b82ba237-01b8-4969-a9e3-888e6422c2f9",
   "metadata": {},
   "outputs": [],
   "source": [
    "pm_point_list = s.strip('[]')"
   ]
  },
  {
   "cell_type": "code",
   "execution_count": 31,
   "id": "e48a77e2-8630-4795-8773-3a6f805a1127",
   "metadata": {},
   "outputs": [],
   "source": [
    "d = dict(sky_point_list=sky_point_list, pm_point_list=pm_point_list)"
   ]
  },
  {
   "cell_type": "code",
   "execution_count": 32,
   "id": "872d9c4b-fafc-43c1-9666-e0b75c292eb5",
   "metadata": {},
   "outputs": [],
   "source": [
    "point_series = pd.Series(d)"
   ]
  },
  {
   "cell_type": "code",
   "execution_count": 33,
   "id": "f4d41cf8-0ca3-41d2-af0a-fe36aeb04ae7",
   "metadata": {},
   "outputs": [],
   "source": [
    "filename = 'gd1_data.hdf'\n",
    "point_series.to_hdf(filename, 'point_series')"
   ]
  },
  {
   "cell_type": "markdown",
   "id": "13cf397c-7f98-451b-8359-6c93773d6970",
   "metadata": {},
   "source": [
    "# Episode 5: CSV"
   ]
  },
  {
   "cell_type": "code",
   "execution_count": 34,
   "id": "5d4d10b2-a714-43a3-bccc-65b2fa9c740c",
   "metadata": {},
   "outputs": [],
   "source": [
    "column_list = ['gaia.source_id',\n",
    "               'gaia.ra',\n",
    "               'gaia.dec',\n",
    "               'gaia.pmra',\n",
    "               'gaia.pmdec',\n",
    "               'best.best_neighbour_multiplicity',\n",
    "               'best.number_of_mates',\n",
    "               'ps.g_mean_psf_mag',\n",
    "               'ps.i_mean_psf_mag']"
   ]
  },
  {
   "cell_type": "code",
   "execution_count": 35,
   "id": "459a8eb2-26c3-4ef5-9e30-c016004efa44",
   "metadata": {},
   "outputs": [
    {
     "name": "stdout",
     "output_type": "stream",
     "text": [
      "\n",
      "SELECT \n",
      "gaia.source_id, gaia.ra, gaia.dec, gaia.pmra, gaia.pmdec, best.best_neighbour_multiplicity, best.number_of_mates, ps.g_mean_psf_mag, ps.i_mean_psf_mag\n",
      "FROM gaiadr2.gaia_source as gaia\n",
      "JOIN gaiadr2.panstarrs1_best_neighbour as best\n",
      "  ON gaia.source_id = best.source_id\n",
      "JOIN gaiadr2.panstarrs1_original_valid as ps\n",
      "  ON best.original_ext_source_id = ps.obj_id\n",
      "WHERE parallax < 1\n",
      "  AND bp_rp BETWEEN -0.75 AND 2 \n",
      "  AND 1 = CONTAINS(POINT(gaia.ra, gaia.dec), \n",
      "                   POLYGON(135.306, 8.39862, 126.51, 13.4449, 163.017, 54.2424, 172.933, 46.4726, 135.306, 8.39862))\n",
      "  AND 1 = CONTAINS(POINT(gaia.pmra, gaia.pmdec),\n",
      "                   POLYGON( -4.05037121,-14.75623261, -3.41981085,-14.72365546, -3.03521988,-14.44357135, -2.26847919,-13.7140236 , -2.61172203,-13.24797471, -2.73471401,-13.09054471, -3.19923146,-12.5942653 , -3.34082546,-12.47611926, -5.67489413,-11.16083338, -5.95159272,-11.10547884, -6.42394023,-11.05981295, -7.09631023,-11.95187806, -7.30641519,-12.24559977, -7.04016696,-12.88580702, -6.00347705,-13.75912098, -4.42442296,-14.74641176))\n",
      "\n",
      "INFO: Query finished. [astroquery.utils.tap.core]\n"
     ]
    }
   ],
   "source": [
    "candidate_join_query_base = \"\"\"\n",
    "SELECT \n",
    "{columns}\n",
    "FROM gaiadr2.gaia_source as gaia\n",
    "JOIN gaiadr2.panstarrs1_best_neighbour as best\n",
    "  ON gaia.source_id = best.source_id\n",
    "JOIN gaiadr2.panstarrs1_original_valid as ps\n",
    "  ON best.original_ext_source_id = ps.obj_id\n",
    "WHERE parallax < 1\n",
    "  AND bp_rp BETWEEN -0.75 AND 2 \n",
    "  AND 1 = CONTAINS(POINT(gaia.ra, gaia.dec), \n",
    "                   POLYGON({sky_point_list}))\n",
    "  AND 1 = CONTAINS(POINT(gaia.pmra, gaia.pmdec),\n",
    "                   POLYGON({pm_point_list}))\n",
    "\"\"\"\n",
    "\n",
    "columns = ', '.join(column_list)\n",
    "\n",
    "candidate_join_query = candidate_join_query_base.format(columns=columns,\n",
    "                            sky_point_list=point_series['sky_point_list'],\n",
    "                            pm_point_list=point_series['pm_point_list'])\n",
    "print(candidate_join_query)\n",
    "\n",
    "\n",
    "candidate_join_job = Gaia.launch_job_async(query=candidate_join_query)\n",
    "candidate_table = candidate_join_job.get_results()"
   ]
  },
  {
   "cell_type": "code",
   "execution_count": 36,
   "id": "186fad17-15d2-4d4b-917c-ae283a4dc5c2",
   "metadata": {},
   "outputs": [],
   "source": [
    "candidate_df = make_dataframe(candidate_table)"
   ]
  },
  {
   "cell_type": "code",
   "execution_count": 37,
   "id": "09c2bdca-3eb9-4c78-83fb-14efea94c97e",
   "metadata": {},
   "outputs": [],
   "source": [
    "filename = 'gd1_data.hdf'\n",
    "\n",
    "candidate_df.to_hdf(filename, 'candidate_df')"
   ]
  },
  {
   "cell_type": "code",
   "execution_count": 38,
   "id": "1ea2f640-a280-4f7a-930d-ede5abf750f4",
   "metadata": {},
   "outputs": [],
   "source": [
    "candidate_df.to_csv('gd1_data.csv')"
   ]
  },
  {
   "cell_type": "markdown",
   "id": "d4a558e3-92c2-4322-b1eb-d4ed93622a2a",
   "metadata": {},
   "source": [
    "# Episode 6: HDF5"
   ]
  },
  {
   "cell_type": "code",
   "execution_count": 39,
   "id": "0d5694ed-b5c1-46b2-954c-c96ff91750b8",
   "metadata": {},
   "outputs": [],
   "source": [
    "from matplotlib.patches import Polygon"
   ]
  },
  {
   "cell_type": "code",
   "execution_count": 40,
   "id": "a5b96b27-5860-4c3c-88d6-9cbc6a47c0fb",
   "metadata": {},
   "outputs": [],
   "source": [
    "filename = '../student_download/gd1_isochrone.hdf5'\n",
    "iso_df = pd.read_hdf(filename, 'iso_df')"
   ]
  },
  {
   "cell_type": "code",
   "execution_count": 41,
   "id": "24e4e281-39d4-448c-ba2d-fbd7f073d450",
   "metadata": {},
   "outputs": [],
   "source": [
    "g_all = iso_df['mag_g']\n",
    "\n",
    "g_mask = (g_all > 18.0) & (g_all < 21.5)"
   ]
  },
  {
   "cell_type": "code",
   "execution_count": 42,
   "id": "5704c2e1-71f4-49b1-aaef-e279f17d5631",
   "metadata": {},
   "outputs": [],
   "source": [
    "iso_masked = iso_df[g_mask]"
   ]
  },
  {
   "cell_type": "code",
   "execution_count": 43,
   "id": "c244465b-be21-4d50-ba19-4b3a2ce01871",
   "metadata": {},
   "outputs": [],
   "source": [
    "g = iso_masked['mag_g']\n",
    "left_color = iso_masked['color_g_i'] - 0.06\n",
    "right_color = iso_masked['color_g_i'] + 0.12"
   ]
  },
  {
   "cell_type": "code",
   "execution_count": 44,
   "id": "55ef4ff8-2baa-42fb-8915-20db152104d8",
   "metadata": {},
   "outputs": [],
   "source": [
    "color_loop = front_to_back(left_color, right_color)"
   ]
  },
  {
   "cell_type": "code",
   "execution_count": 45,
   "id": "6b3e51e9-e9be-44ef-aeec-b3bf0211d999",
   "metadata": {},
   "outputs": [],
   "source": [
    "mag_loop = front_to_back(g, g)"
   ]
  },
  {
   "cell_type": "code",
   "execution_count": 46,
   "id": "c39f62ce-6a2a-4d4d-8aed-0ecf57be75c9",
   "metadata": {},
   "outputs": [],
   "source": [
    "loop_df = pd.DataFrame()\n",
    "loop_df['color_loop'] = color_loop\n",
    "loop_df['mag_loop'] = mag_loop"
   ]
  },
  {
   "cell_type": "code",
   "execution_count": 47,
   "id": "c843890e-a969-4295-a305-5e7dd77bb313",
   "metadata": {},
   "outputs": [],
   "source": [
    "polygon = Polygon(loop_df)"
   ]
  },
  {
   "cell_type": "code",
   "execution_count": 48,
   "id": "3b086fc3-acbc-4c09-8a58-f5c64e0bf2fa",
   "metadata": {},
   "outputs": [],
   "source": [
    "filename = 'gd1_data.hdf'\n",
    "loop_df.to_hdf(filename, 'loop_df')"
   ]
  },
  {
   "cell_type": "code",
   "execution_count": 49,
   "id": "68b8067e-af54-45c5-b9e2-041b24859301",
   "metadata": {},
   "outputs": [],
   "source": [
    "cmd_df = pd.DataFrame()\n",
    "\n",
    "cmd_df['color'] = candidate_df['g_mean_psf_mag'] - candidate_df['i_mean_psf_mag']\n",
    "cmd_df['mag'] = candidate_df['g_mean_psf_mag']"
   ]
  },
  {
   "cell_type": "code",
   "execution_count": 50,
   "id": "101ccd3a-00b4-4b17-8a43-abf2c1e53029",
   "metadata": {},
   "outputs": [],
   "source": [
    "inside_mask = polygon.contains_points(cmd_df)"
   ]
  },
  {
   "cell_type": "code",
   "execution_count": 51,
   "id": "e0161297-a814-43f1-8e01-112c6c0ab7b5",
   "metadata": {},
   "outputs": [],
   "source": [
    "winner_df = candidate_df[inside_mask]"
   ]
  },
  {
   "cell_type": "code",
   "execution_count": 52,
   "id": "2f35f882-0e9a-4fb4-82e5-2252b4995ec4",
   "metadata": {},
   "outputs": [],
   "source": [
    "filename = 'gd1_data.hdf'\n",
    "winner_df.to_hdf(filename, 'winner_df')"
   ]
  },
  {
   "cell_type": "markdown",
   "id": "0c441cb2-e956-4f72-9fc9-3aeaf3eea45c",
   "metadata": {},
   "source": [
    "# Move Data Files to Download Directory"
   ]
  },
  {
   "cell_type": "code",
   "execution_count": 53,
   "id": "9b5f7756-6c87-4a34-af77-c35f9bce5e39",
   "metadata": {},
   "outputs": [],
   "source": [
    "mv gd1_results.fits ../student_download/data/"
   ]
  },
  {
   "cell_type": "code",
   "execution_count": 54,
   "id": "ac422cc9-3ca2-4b08-a405-84eb55d70ae4",
   "metadata": {},
   "outputs": [],
   "source": [
    "mv gd1_data.csv ../student_download/data/"
   ]
  },
  {
   "cell_type": "code",
   "execution_count": 55,
   "id": "b11204e7-fd16-4dfc-a379-1b2307620c1c",
   "metadata": {},
   "outputs": [],
   "source": [
    "mv gd1_data.hdf ../student_download/data/"
   ]
  }
 ],
 "metadata": {
  "kernelspec": {
   "display_name": "Python (AstronomicalData)",
   "language": "python",
   "name": "astronomicaldata"
  },
  "language_info": {
   "codemirror_mode": {
    "name": "ipython",
    "version": 3
   },
   "file_extension": ".py",
   "mimetype": "text/x-python",
   "name": "python",
   "nbconvert_exporter": "python",
   "pygments_lexer": "ipython3",
   "version": "3.8.6"
  }
 },
 "nbformat": 4,
 "nbformat_minor": 5
}
